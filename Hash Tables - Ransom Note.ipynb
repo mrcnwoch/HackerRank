{
 "cells": [
  {
   "cell_type": "code",
   "execution_count": 12,
   "metadata": {},
   "outputs": [],
   "source": [
    "def checkMagazine(magazine, note):\n",
    "    mag_dic = {}\n",
    "    for word in magazine:\n",
    "        if word in mag_dic:\n",
    "            mag_dic[word] += 1\n",
    "        else:\n",
    "            mag_dic[word] = 1\n",
    "           \n",
    "    for word in note:\n",
    "        if word in mag_dic and mag_dic[word] > 0:\n",
    "            mag_dic[word] -= 1\n",
    "        else:\n",
    "            print(\"No\")\n",
    "            return\n",
    "\n",
    "    print(\"Yes\")\n",
    "    return"
   ]
  },
  {
   "cell_type": "code",
   "execution_count": 11,
   "metadata": {},
   "outputs": [
    {
     "data": {
      "text/plain": [
       "'No'"
      ]
     },
     "execution_count": 11,
     "metadata": {},
     "output_type": "execute_result"
    }
   ],
   "source": [
    "#checkMagazine(['give', 'me', 'one', 'grand', 'today', 'night'], ['give', 'one', 'grand', 'today'])\n",
    "checkMagazine(['ive', 'got', 'a', 'lovely', 'bunch', 'of', 'coconuts', 'ive'], ['ive', 'got', 'some', 'coconuts'])\n",
    "#checkMagazine(['apgo', 'clm', 'w', 'lxkvg', 'mwz', 'elo', 'bg', 'elo', 'lxkvg', 'elo', 'apgo', 'apgo', 'w', 'elo', 'bg'], ['elo', 'lxkvg', 'bg', 'mwz', 'clm', 'w'])"
   ]
  },
  {
   "cell_type": "code",
   "execution_count": null,
   "metadata": {},
   "outputs": [],
   "source": []
  },
  {
   "cell_type": "code",
   "execution_count": null,
   "metadata": {},
   "outputs": [],
   "source": []
  }
 ],
 "metadata": {
  "kernelspec": {
   "display_name": "Python 3",
   "language": "python",
   "name": "python3"
  },
  "language_info": {
   "codemirror_mode": {
    "name": "ipython",
    "version": 3
   },
   "file_extension": ".py",
   "mimetype": "text/x-python",
   "name": "python",
   "nbconvert_exporter": "python",
   "pygments_lexer": "ipython3",
   "version": "3.6.4"
  }
 },
 "nbformat": 4,
 "nbformat_minor": 2
}
