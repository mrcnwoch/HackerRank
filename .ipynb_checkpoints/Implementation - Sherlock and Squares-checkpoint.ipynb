{
 "cells": [
  {
   "cell_type": "code",
   "execution_count": 16,
   "id": "95d1a7af",
   "metadata": {},
   "outputs": [],
   "source": [
    "def squares(a, b):\n",
    "    import math \n",
    "    \n",
    "    sq_a = math.ceil(math.sqrt(a))\n",
    "    sq_b = math.floor(math.sqrt(b))\n",
    "    \n",
    "    return sq_b - sq_a + 1"
   ]
  },
  {
   "cell_type": "code",
   "execution_count": 20,
   "id": "7f0c4763",
   "metadata": {},
   "outputs": [
    {
     "data": {
      "text/plain": [
       "0"
      ]
     },
     "execution_count": 20,
     "metadata": {},
     "output_type": "execute_result"
    }
   ],
   "source": [
    "a = 24; b = 49\n",
    "a = 25; b = 49\n",
    "a = 3; b = 9\n",
    "a = 17; b = 24\n",
    "squares(a, b)"
   ]
  },
  {
   "cell_type": "code",
   "execution_count": null,
   "id": "7cc02ce3",
   "metadata": {},
   "outputs": [],
   "source": []
  }
 ],
 "metadata": {
  "kernelspec": {
   "display_name": "Python 3 (ipykernel)",
   "language": "python",
   "name": "python3"
  },
  "language_info": {
   "codemirror_mode": {
    "name": "ipython",
    "version": 3
   },
   "file_extension": ".py",
   "mimetype": "text/x-python",
   "name": "python",
   "nbconvert_exporter": "python",
   "pygments_lexer": "ipython3",
   "version": "3.9.7"
  }
 },
 "nbformat": 4,
 "nbformat_minor": 5
}
