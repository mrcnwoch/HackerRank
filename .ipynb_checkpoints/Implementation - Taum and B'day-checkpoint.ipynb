{
 "cells": [
  {
   "cell_type": "code",
   "execution_count": 3,
   "id": "3021b032",
   "metadata": {},
   "outputs": [],
   "source": [
    "def taumBday(b, w, bc, wc, z):\n",
    "    basic_cost = b * bc + w * wc\n",
    "    \n",
    "    if bc == wc:\n",
    "        return basic_cost\n",
    "    elif bc < wc:\n",
    "        conv_cost = b * bc + w * (bc + z)\n",
    "        if conv_cost < basic_cost:\n",
    "            return conv_cost\n",
    "        else:\n",
    "            return basic_cost\n",
    "    else:\n",
    "        conv_cost = b * (wc + z) + w * wc\n",
    "        if conv_cost < basic_cost:\n",
    "            return conv_cost\n",
    "        else:\n",
    "            return basic_cost"
   ]
  },
  {
   "cell_type": "code",
   "execution_count": 4,
   "id": "47c29d60",
   "metadata": {},
   "outputs": [
    {
     "data": {
      "text/plain": [
       "29"
      ]
     },
     "execution_count": 4,
     "metadata": {},
     "output_type": "execute_result"
    }
   ],
   "source": [
    "b = 3; w = 5; bc = 3; wc = 4; z = 1\n",
    "taumBday(b, w, bc, wc, z)"
   ]
  },
  {
   "cell_type": "code",
   "execution_count": null,
   "id": "20bf921d",
   "metadata": {},
   "outputs": [],
   "source": []
  }
 ],
 "metadata": {
  "kernelspec": {
   "display_name": "Python 3 (ipykernel)",
   "language": "python",
   "name": "python3"
  },
  "language_info": {
   "codemirror_mode": {
    "name": "ipython",
    "version": 3
   },
   "file_extension": ".py",
   "mimetype": "text/x-python",
   "name": "python",
   "nbconvert_exporter": "python",
   "pygments_lexer": "ipython3",
   "version": "3.9.7"
  }
 },
 "nbformat": 4,
 "nbformat_minor": 5
}
