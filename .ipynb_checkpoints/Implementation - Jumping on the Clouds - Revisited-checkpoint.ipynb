{
 "cells": [
  {
   "cell_type": "code",
   "execution_count": 10,
   "id": "a677db38",
   "metadata": {},
   "outputs": [],
   "source": [
    "def jumpingOnClouds(c, k):\n",
    "    energy = 100\n",
    "    start_idx = 0\n",
    "    idx = start_idx\n",
    "    \n",
    "    while True:\n",
    "        idx = (idx + k) % len(c)\n",
    "        energy -= 1\n",
    "        if c[idx] == 1:\n",
    "            energy -= 2\n",
    "        \n",
    "        if idx == 0:\n",
    "            break\n",
    "            \n",
    "    return energy"
   ]
  },
  {
   "cell_type": "code",
   "execution_count": 12,
   "id": "832ff3ca",
   "metadata": {},
   "outputs": [
    {
     "data": {
      "text/plain": [
       "96"
      ]
     },
     "execution_count": 12,
     "metadata": {},
     "output_type": "execute_result"
    }
   ],
   "source": [
    "c = [0, 0, 1, 0]; k = 2\n",
    "#c = [0, 0, 1, 0, 0, 1, 1, 0]; k = 2\n",
    "jumpingOnClouds(c, k)"
   ]
  },
  {
   "cell_type": "code",
   "execution_count": null,
   "id": "393686e5",
   "metadata": {},
   "outputs": [],
   "source": []
  }
 ],
 "metadata": {
  "kernelspec": {
   "display_name": "Python 3 (ipykernel)",
   "language": "python",
   "name": "python3"
  },
  "language_info": {
   "codemirror_mode": {
    "name": "ipython",
    "version": 3
   },
   "file_extension": ".py",
   "mimetype": "text/x-python",
   "name": "python",
   "nbconvert_exporter": "python",
   "pygments_lexer": "ipython3",
   "version": "3.9.7"
  }
 },
 "nbformat": 4,
 "nbformat_minor": 5
}
