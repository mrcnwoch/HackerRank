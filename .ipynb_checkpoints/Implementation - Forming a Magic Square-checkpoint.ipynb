{
 "cells": [
  {
   "cell_type": "code",
   "execution_count": 17,
   "id": "fb419ab2",
   "metadata": {},
   "outputs": [],
   "source": [
    "def formingMagicSquare(s):\n",
    "    predefined = [\n",
    "        [[8, 1, 6], [3, 5, 7], [4, 9, 2]],\n",
    "        [[6, 1, 8], [7, 5, 3], [2, 9, 4]],\n",
    "        [[4, 9, 2], [3, 5, 7], [8, 1, 6]],\n",
    "        [[2, 9, 4], [7, 5, 3], [6, 1, 8]], \n",
    "        [[8, 3, 4], [1, 5, 9], [6, 7, 2]],\n",
    "        [[4, 3, 8], [9, 5, 1], [2, 7, 6]], \n",
    "        [[6, 7, 2], [1, 5, 9], [8, 3, 4]], \n",
    "        [[2, 7, 6], [9, 5, 1], [4, 3, 8]],\n",
    "        ]\n",
    "    \n",
    "    min_cost = 81\n",
    "    \n",
    "    for sq in predefined:\n",
    "        cost = 0\n",
    "        for i in range(3):\n",
    "            for j in range(3):\n",
    "                cost += abs(sq[i][j] - s[i][j])\n",
    "        if cost < min_cost:\n",
    "            min_cost = cost\n",
    "    \n",
    "    return min_cost"
   ]
  },
  {
   "cell_type": "code",
   "execution_count": 18,
   "id": "be8e876b",
   "metadata": {},
   "outputs": [
    {
     "data": {
      "text/plain": [
       "7"
      ]
     },
     "execution_count": 18,
     "metadata": {},
     "output_type": "execute_result"
    }
   ],
   "source": [
    "s = [[5, 3, 4], [1, 5, 8], [6, 4, 2]]\n",
    "formingMagicSquare(s)"
   ]
  },
  {
   "cell_type": "code",
   "execution_count": null,
   "id": "f41d197c",
   "metadata": {},
   "outputs": [],
   "source": []
  }
 ],
 "metadata": {
  "kernelspec": {
   "display_name": "Python 3 (ipykernel)",
   "language": "python",
   "name": "python3"
  },
  "language_info": {
   "codemirror_mode": {
    "name": "ipython",
    "version": 3
   },
   "file_extension": ".py",
   "mimetype": "text/x-python",
   "name": "python",
   "nbconvert_exporter": "python",
   "pygments_lexer": "ipython3",
   "version": "3.9.7"
  }
 },
 "nbformat": 4,
 "nbformat_minor": 5
}
