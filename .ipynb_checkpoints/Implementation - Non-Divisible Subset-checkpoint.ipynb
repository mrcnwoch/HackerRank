{
 "cells": [
  {
   "cell_type": "code",
   "execution_count": 14,
   "id": "cac0e1e2",
   "metadata": {},
   "outputs": [],
   "source": [
    "def nonDivisibleSubset(k, s):\n",
    "    for i in range(len(s)):\n",
    "        for j in range(i + 1, len(s)):\n",
    "            sm = s[i] + s[j]\n",
    "            if sm % k != 0:\n",
    "                print(s[i], s[j])"
   ]
  },
  {
   "cell_type": "code",
   "execution_count": 16,
   "id": "8a832d9c",
   "metadata": {},
   "outputs": [
    {
     "name": "stdout",
     "output_type": "stream",
     "text": [
      "19 10\n",
      "19 12\n",
      "19 10\n",
      "19 24\n",
      "19 22\n",
      "10 12\n",
      "10 24\n",
      "10 25\n",
      "12 10\n",
      "12 25\n",
      "12 22\n",
      "10 24\n",
      "10 25\n",
      "24 25\n",
      "24 22\n",
      "25 22\n"
     ]
    }
   ],
   "source": [
    "k = 4; s = [19, 10, 12, 10, 24, 25, 22]\n",
    "#k = 3; s = [1, 7, 2, 4]\n",
    "nonDivisibleSubset(k, s)"
   ]
  },
  {
   "cell_type": "code",
   "execution_count": null,
   "id": "a43fbbe7",
   "metadata": {},
   "outputs": [],
   "source": []
  }
 ],
 "metadata": {
  "kernelspec": {
   "display_name": "Python 3 (ipykernel)",
   "language": "python",
   "name": "python3"
  },
  "language_info": {
   "codemirror_mode": {
    "name": "ipython",
    "version": 3
   },
   "file_extension": ".py",
   "mimetype": "text/x-python",
   "name": "python",
   "nbconvert_exporter": "python",
   "pygments_lexer": "ipython3",
   "version": "3.9.7"
  }
 },
 "nbformat": 4,
 "nbformat_minor": 5
}
