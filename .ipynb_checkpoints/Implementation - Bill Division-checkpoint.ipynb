{
 "cells": [
  {
   "cell_type": "code",
   "execution_count": 19,
   "id": "e761d1e8",
   "metadata": {},
   "outputs": [],
   "source": [
    "def bonAppetit(bill, k, b):\n",
    "    anna_bill = (sum(bill) - bill[k]) / 2\n",
    "    \n",
    "    if b != anna_bill:\n",
    "        print(int(b - anna_bill))\n",
    "    else:\n",
    "        print('Bon Appetit')"
   ]
  },
  {
   "cell_type": "code",
   "execution_count": 20,
   "id": "604acaba",
   "metadata": {},
   "outputs": [
    {
     "name": "stdout",
     "output_type": "stream",
     "text": [
      "Bon Appetit\n"
     ]
    }
   ],
   "source": [
    "bill = [3, 10, 2, 9]\n",
    "k = 1\n",
    "b = 7\n",
    "\n",
    "bonAppetit(bill, k, b)"
   ]
  },
  {
   "cell_type": "code",
   "execution_count": null,
   "id": "e8f3f449",
   "metadata": {},
   "outputs": [],
   "source": []
  }
 ],
 "metadata": {
  "kernelspec": {
   "display_name": "Python 3 (ipykernel)",
   "language": "python",
   "name": "python3"
  },
  "language_info": {
   "codemirror_mode": {
    "name": "ipython",
    "version": 3
   },
   "file_extension": ".py",
   "mimetype": "text/x-python",
   "name": "python",
   "nbconvert_exporter": "python",
   "pygments_lexer": "ipython3",
   "version": "3.9.7"
  }
 },
 "nbformat": 4,
 "nbformat_minor": 5
}
