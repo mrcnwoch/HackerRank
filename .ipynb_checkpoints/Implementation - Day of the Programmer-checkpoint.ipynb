{
 "cells": [
  {
   "cell_type": "code",
   "execution_count": 36,
   "id": "65e4974a",
   "metadata": {},
   "outputs": [],
   "source": [
    "def dayOfProgrammer(year):\n",
    "    def leap_year_julian(year):\n",
    "        return year % 4 == 0\n",
    "    \n",
    "    def leap_year_gregorian(year):\n",
    "        if year % 400 == 0:\n",
    "            return True\n",
    "        elif year % 100 == 0:\n",
    "            return False\n",
    "        else:\n",
    "            return year % 4 == 0\n",
    "        \n",
    "    ly = False\n",
    "    if year >= 1919:\n",
    "        ly = leap_year_gregorian(year)\n",
    "    else:\n",
    "        ly = leap_year_julian(year)\n",
    "        \n",
    "    day_no = 256 - 243\n",
    "    if ly:\n",
    "        day_no -= 1\n",
    "        \n",
    "    if year == 1918: #switch of calendars on 31.01.1918\n",
    "        day_no += 13\n",
    "    \n",
    "    return \"{dd}.{mm}.{yy}\".format(dd = day_no, mm = '09', yy = year)"
   ]
  },
  {
   "cell_type": "code",
   "execution_count": 37,
   "id": "34c39b20",
   "metadata": {},
   "outputs": [
    {
     "data": {
      "text/plain": [
       "'26.09.1918'"
      ]
     },
     "execution_count": 37,
     "metadata": {},
     "output_type": "execute_result"
    }
   ],
   "source": [
    "dayOfProgrammer(1918)"
   ]
  },
  {
   "cell_type": "code",
   "execution_count": null,
   "id": "4ae26b7b",
   "metadata": {},
   "outputs": [],
   "source": []
  }
 ],
 "metadata": {
  "kernelspec": {
   "display_name": "Python 3 (ipykernel)",
   "language": "python",
   "name": "python3"
  },
  "language_info": {
   "codemirror_mode": {
    "name": "ipython",
    "version": 3
   },
   "file_extension": ".py",
   "mimetype": "text/x-python",
   "name": "python",
   "nbconvert_exporter": "python",
   "pygments_lexer": "ipython3",
   "version": "3.9.7"
  }
 },
 "nbformat": 4,
 "nbformat_minor": 5
}
