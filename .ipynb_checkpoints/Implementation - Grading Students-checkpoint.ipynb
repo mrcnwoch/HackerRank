{
 "cells": [
  {
   "cell_type": "code",
   "execution_count": 20,
   "id": "d251a352",
   "metadata": {},
   "outputs": [],
   "source": [
    "def gradingStudents(grades):\n",
    "    new_grades = []\n",
    "    for grade in grades:\n",
    "        if grade < 38:\n",
    "            new_grades.append(grade)\n",
    "        else:\n",
    "            md = grade % 5\n",
    "            if md >= 3:\n",
    "                grade += (5 - md)\n",
    "            new_grades.append(grade)\n",
    "        \n",
    "    return new_grades"
   ]
  },
  {
   "cell_type": "code",
   "execution_count": 22,
   "id": "6d9f9dc9",
   "metadata": {},
   "outputs": [
    {
     "data": {
      "text/plain": [
       "[85, 29, 57]"
      ]
     },
     "execution_count": 22,
     "metadata": {},
     "output_type": "execute_result"
    }
   ],
   "source": [
    "grades = [84, 29, 57]\n",
    "#grades = [73, 67, 38, 33]\n",
    "gradingStudents(grades)"
   ]
  },
  {
   "cell_type": "code",
   "execution_count": null,
   "id": "d7474f0f",
   "metadata": {},
   "outputs": [],
   "source": []
  }
 ],
 "metadata": {
  "kernelspec": {
   "display_name": "Python 3 (ipykernel)",
   "language": "python",
   "name": "python3"
  },
  "language_info": {
   "codemirror_mode": {
    "name": "ipython",
    "version": 3
   },
   "file_extension": ".py",
   "mimetype": "text/x-python",
   "name": "python",
   "nbconvert_exporter": "python",
   "pygments_lexer": "ipython3",
   "version": "3.9.7"
  }
 },
 "nbformat": 4,
 "nbformat_minor": 5
}
