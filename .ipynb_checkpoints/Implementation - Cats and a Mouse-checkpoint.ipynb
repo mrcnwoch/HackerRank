{
 "cells": [
  {
   "cell_type": "code",
   "execution_count": 2,
   "id": "5e768fa6",
   "metadata": {},
   "outputs": [],
   "source": [
    "def catAndMouse(x, y, z):\n",
    "    diffA = abs(x-z)\n",
    "    diffB = abs(y-z)\n",
    "    \n",
    "    if diffA == diffB:\n",
    "        return 'Mouse C'\n",
    "    elif diffA < diffB:\n",
    "        return 'Cat A'\n",
    "    else:\n",
    "        return 'Cat B'"
   ]
  },
  {
   "cell_type": "code",
   "execution_count": 4,
   "id": "e65c9e92",
   "metadata": {},
   "outputs": [
    {
     "data": {
      "text/plain": [
       "'Mouse C'"
      ]
     },
     "execution_count": 4,
     "metadata": {},
     "output_type": "execute_result"
    }
   ],
   "source": [
    "catAndMouse(1, 3, 2)"
   ]
  },
  {
   "cell_type": "code",
   "execution_count": null,
   "id": "6a5e21ad",
   "metadata": {},
   "outputs": [],
   "source": []
  }
 ],
 "metadata": {
  "kernelspec": {
   "display_name": "Python 3 (ipykernel)",
   "language": "python",
   "name": "python3"
  },
  "language_info": {
   "codemirror_mode": {
    "name": "ipython",
    "version": 3
   },
   "file_extension": ".py",
   "mimetype": "text/x-python",
   "name": "python",
   "nbconvert_exporter": "python",
   "pygments_lexer": "ipython3",
   "version": "3.9.7"
  }
 },
 "nbformat": 4,
 "nbformat_minor": 5
}
