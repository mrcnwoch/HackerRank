{
 "cells": [
  {
   "cell_type": "code",
   "execution_count": 7,
   "id": "1c2816b4",
   "metadata": {},
   "outputs": [],
   "source": [
    "import math\n",
    "import os\n",
    "import random\n",
    "import re\n",
    "import sys"
   ]
  },
  {
   "cell_type": "code",
   "execution_count": 8,
   "id": "11bef0d5",
   "metadata": {},
   "outputs": [],
   "source": [
    "class DoublyLinkedListNode:\n",
    "    def __init__(self, node_data):\n",
    "        self.data = node_data\n",
    "        self.next = None\n",
    "        self.prev = None"
   ]
  },
  {
   "cell_type": "code",
   "execution_count": 9,
   "id": "cf100c2e",
   "metadata": {},
   "outputs": [],
   "source": [
    "class DoublyLinkedList:\n",
    "    def __init__(self):\n",
    "        self.head = None\n",
    "        self.tail = None\n",
    "\n",
    "    def insert_node(self, node_data):\n",
    "        node = DoublyLinkedListNode(node_data)\n",
    "\n",
    "        if not self.head:\n",
    "            self.head = node\n",
    "        else:\n",
    "            self.tail.next = node\n",
    "            node.prev = self.tail\n",
    "\n",
    "\n",
    "        self.tail = node"
   ]
  },
  {
   "cell_type": "code",
   "execution_count": 14,
   "id": "9a389094",
   "metadata": {},
   "outputs": [],
   "source": [
    "def print_doubly_linked_list(node, sep):\n",
    "    while node:\n",
    "        print(str(node.data))\n",
    "\n",
    "        node = node.next\n",
    "\n",
    "        if node:\n",
    "            print(sep)"
   ]
  },
  {
   "cell_type": "code",
   "execution_count": 62,
   "id": "da6ce802",
   "metadata": {},
   "outputs": [],
   "source": [
    "def reverse(llist):\n",
    "    node = llist\n",
    "    node_list = []\n",
    "    \n",
    "    while node:\n",
    "        node_list.append(node.data)\n",
    "        node = node.next\n",
    "        \n",
    "    node_list.reverse()\n",
    "    llist_reversed = DoublyLinkedList()\n",
    "    \n",
    "    for el in node_list:\n",
    "        llist_reversed.insert_node(int(el))\n",
    "        \n",
    "    return(llist_reversed.head)"
   ]
  },
  {
   "cell_type": "code",
   "execution_count": 63,
   "id": "8736a58f",
   "metadata": {},
   "outputs": [
    {
     "name": "stdout",
     "output_type": "stream",
     "text": [
      "1\n",
      "4\n",
      "1\n",
      "2\n",
      "3\n",
      "4\n",
      "4\n",
      " \n",
      "3\n",
      " \n",
      "2\n",
      " \n",
      "1\n"
     ]
    }
   ],
   "source": [
    "t = int(input())\n",
    "\n",
    "for t_itr in range(t):\n",
    "    llist_count = int(input())\n",
    "\n",
    "    llist = DoublyLinkedList()\n",
    "\n",
    "    for _ in range(llist_count):\n",
    "        llist_item = int(input())\n",
    "        llist.insert_node(llist_item)\n",
    "\n",
    "    llist1 = reverse(llist.head)\n",
    "    \n",
    "    print_doubly_linked_list(llist1, ' ')"
   ]
  },
  {
   "cell_type": "code",
   "execution_count": null,
   "id": "442a4754",
   "metadata": {},
   "outputs": [],
   "source": []
  }
 ],
 "metadata": {
  "kernelspec": {
   "display_name": "Python 3 (ipykernel)",
   "language": "python",
   "name": "python3"
  },
  "language_info": {
   "codemirror_mode": {
    "name": "ipython",
    "version": 3
   },
   "file_extension": ".py",
   "mimetype": "text/x-python",
   "name": "python",
   "nbconvert_exporter": "python",
   "pygments_lexer": "ipython3",
   "version": "3.9.7"
  }
 },
 "nbformat": 4,
 "nbformat_minor": 5
}
