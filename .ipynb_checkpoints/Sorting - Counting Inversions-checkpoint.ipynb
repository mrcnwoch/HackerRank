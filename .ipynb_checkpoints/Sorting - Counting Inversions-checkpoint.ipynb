{
 "cells": [
  {
   "cell_type": "code",
   "execution_count": 7,
   "metadata": {},
   "outputs": [],
   "source": [
    "def countInversionsBrute(arr): #O(n^2)\n",
    "    cnt = 0\n",
    "    \n",
    "    for i in range(len(arr)):\n",
    "        for j in range(i + 1, len(arr)):\n",
    "            if arr[i] > arr[j]:\n",
    "                cnt += 1\n",
    "    \n",
    "    return cnt"
   ]
  },
  {
   "cell_type": "code",
   "execution_count": 21,
   "metadata": {},
   "outputs": [],
   "source": [
    "def countInversions(arr):\n",
    "    def merge(arr):\n",
    "        cnt_inv = 0\n",
    "\n",
    "        if len(arr) <= 1:\n",
    "            return arr, 0\n",
    "\n",
    "        ar_left, inv_left = merge(arr[:int(len(arr)/2)])\n",
    "        ar_right, inv_right = merge(arr[int(len(arr)/2):])\n",
    "\n",
    "        ar_merged = []\n",
    "        i = j = 0\n",
    "        len_left = len(ar_left)\n",
    "        len_right = len(ar_right)\n",
    "\n",
    "        for k in range(len(arr) - 1):\n",
    "            if i == len_left or j == len_right:\n",
    "                break\n",
    "\n",
    "            if ar_left[i] <= ar_right[j]:\n",
    "                ar_merged.append(ar_left[i])\n",
    "                i += 1\n",
    "            else:\n",
    "                ar_merged.append(ar_right[j])\n",
    "                j += 1\n",
    "                cnt_inv += len_left - i\n",
    "\n",
    "        ar_merged += ar_left[i:]\n",
    "        ar_merged += ar_right[j:]\n",
    "        return ar_merged, cnt_inv + inv_left + inv_right\n",
    "    \n",
    "    arr, cnt = merge(arr)\n",
    "    return cnt"
   ]
  },
  {
   "cell_type": "code",
   "execution_count": 22,
   "metadata": {},
   "outputs": [
    {
     "name": "stdout",
     "output_type": "stream",
     "text": [
      "6 6\n"
     ]
    }
   ],
   "source": [
    "print(\n",
    "    countInversions([7, 5, 3, 1]),\n",
    "    countInversionsBrute([7, 5, 3, 1])\n",
    ")"
   ]
  },
  {
   "cell_type": "code",
   "execution_count": null,
   "metadata": {},
   "outputs": [],
   "source": []
  },
  {
   "cell_type": "code",
   "execution_count": null,
   "metadata": {},
   "outputs": [],
   "source": []
  }
 ],
 "metadata": {
  "kernelspec": {
   "display_name": "Python 3 (ipykernel)",
   "language": "python",
   "name": "python3"
  },
  "language_info": {
   "codemirror_mode": {
    "name": "ipython",
    "version": 3
   },
   "file_extension": ".py",
   "mimetype": "text/x-python",
   "name": "python",
   "nbconvert_exporter": "python",
   "pygments_lexer": "ipython3",
   "version": "3.9.7"
  }
 },
 "nbformat": 4,
 "nbformat_minor": 2
}
