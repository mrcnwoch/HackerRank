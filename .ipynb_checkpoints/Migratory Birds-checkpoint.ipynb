{
 "cells": [
  {
   "cell_type": "code",
   "execution_count": 16,
   "id": "ab515855",
   "metadata": {},
   "outputs": [],
   "source": [
    "def migratoryBirds(arr):\n",
    "    d = {}\n",
    "    lowest = 0\n",
    "    max_freq = 0\n",
    "    \n",
    "    for item in arr:\n",
    "        d[item] = d.get(item, 0) + 1\n",
    "        if max_freq < d[item]:\n",
    "            max_freq = d[item]\n",
    "            lowest = item\n",
    "        elif (max_freq == d[item]) and (lowest > item):\n",
    "            lowest = item\n",
    "            \n",
    "    return lowest"
   ]
  },
  {
   "cell_type": "code",
   "execution_count": 21,
   "id": "a87d0de1",
   "metadata": {},
   "outputs": [],
   "source": [
    "def migratoryBirds(arr):\n",
    "    from collections import Counter\n",
    "    \n",
    "    d = dict(Counter(arr))\n",
    "    mx = max(d, key = d.get)  \n",
    "    \n",
    "    return mx"
   ]
  },
  {
   "cell_type": "code",
   "execution_count": 22,
   "id": "60e47f3b",
   "metadata": {},
   "outputs": [
    {
     "data": {
      "text/plain": [
       "4"
      ]
     },
     "execution_count": 22,
     "metadata": {},
     "output_type": "execute_result"
    }
   ],
   "source": [
    "#arr = [1, 2, 3, 4, 5, 4, 3, 2, 1, 3, 4]\n",
    "arr = [1, 4, 4, 4, 5, 3]\n",
    "migratoryBirds(arr)"
   ]
  },
  {
   "cell_type": "code",
   "execution_count": null,
   "id": "16f7493f",
   "metadata": {},
   "outputs": [],
   "source": []
  }
 ],
 "metadata": {
  "kernelspec": {
   "display_name": "Python 3 (ipykernel)",
   "language": "python",
   "name": "python3"
  },
  "language_info": {
   "codemirror_mode": {
    "name": "ipython",
    "version": 3
   },
   "file_extension": ".py",
   "mimetype": "text/x-python",
   "name": "python",
   "nbconvert_exporter": "python",
   "pygments_lexer": "ipython3",
   "version": "3.9.7"
  }
 },
 "nbformat": 4,
 "nbformat_minor": 5
}
