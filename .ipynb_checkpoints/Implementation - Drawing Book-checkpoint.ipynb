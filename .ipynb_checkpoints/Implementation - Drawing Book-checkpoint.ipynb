{
 "cells": [
  {
   "cell_type": "code",
   "execution_count": 12,
   "id": "ebe0621e",
   "metadata": {},
   "outputs": [],
   "source": [
    "def pageCount(n, p):\n",
    "    if n % 2 == 0:\n",
    "        n += 1\n",
    "    \n",
    "    left_flips = p // 2\n",
    "    right_flips = (n - p) // 2\n",
    "    \n",
    "    return(min(left_flips, right_flips))"
   ]
  },
  {
   "cell_type": "code",
   "execution_count": 13,
   "id": "54ef689d",
   "metadata": {},
   "outputs": [
    {
     "data": {
      "text/plain": [
       "1"
      ]
     },
     "execution_count": 13,
     "metadata": {},
     "output_type": "execute_result"
    }
   ],
   "source": [
    "pageCount(6, 5)"
   ]
  },
  {
   "cell_type": "code",
   "execution_count": null,
   "id": "d3b2c078",
   "metadata": {},
   "outputs": [],
   "source": []
  }
 ],
 "metadata": {
  "kernelspec": {
   "display_name": "Python 3 (ipykernel)",
   "language": "python",
   "name": "python3"
  },
  "language_info": {
   "codemirror_mode": {
    "name": "ipython",
    "version": 3
   },
   "file_extension": ".py",
   "mimetype": "text/x-python",
   "name": "python",
   "nbconvert_exporter": "python",
   "pygments_lexer": "ipython3",
   "version": "3.9.7"
  }
 },
 "nbformat": 4,
 "nbformat_minor": 5
}
