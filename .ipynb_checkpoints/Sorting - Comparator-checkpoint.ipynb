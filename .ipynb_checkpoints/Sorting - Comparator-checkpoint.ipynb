{
 "cells": [
  {
   "cell_type": "code",
   "execution_count": 1,
   "id": "809a65ee",
   "metadata": {},
   "outputs": [],
   "source": [
    "from functools import cmp_to_key"
   ]
  },
  {
   "cell_type": "code",
   "execution_count": 27,
   "id": "d5fd977d",
   "metadata": {},
   "outputs": [],
   "source": [
    "class Player:\n",
    "    def __init__(self, name, score):\n",
    "        self.name = name\n",
    "        self.score = score\n",
    "        \n",
    "    def __repr__(self):\n",
    "        return f'Player(\"{self.name}\",\"{self.score}\")'\n",
    "    \n",
    "    def comparator(a, b):\n",
    "        if b.score == a.score:\n",
    "            if a.name < b.name:\n",
    "                return -1\n",
    "            else:\n",
    "                return 1\n",
    "        return b.score - a.score"
   ]
  },
  {
   "cell_type": "code",
   "execution_count": 28,
   "id": "d60a53aa",
   "metadata": {},
   "outputs": [
    {
     "name": "stdout",
     "output_type": "stream",
     "text": [
      "aleksa 150\n",
      "amy 100\n",
      "david 100\n",
      "aakansha 75\n",
      "heraldo 50\n"
     ]
    }
   ],
   "source": [
    "data = []\n",
    "\n",
    "player = Player('amy', 100)\n",
    "data.append(player)\n",
    "player = Player('david', 100)\n",
    "data.append(player)\n",
    "player = Player('heraldo', 50)\n",
    "data.append(player)\n",
    "player = Player('aakansha', 75)\n",
    "data.append(player)\n",
    "player = Player('aleksa', 150)\n",
    "data.append(player)\n",
    "\n",
    "data = sorted(data, key = cmp_to_key(Player.comparator))\n",
    "for i in data:\n",
    "    print(i.name, i.score)"
   ]
  },
  {
   "cell_type": "code",
   "execution_count": null,
   "id": "bcf129f7",
   "metadata": {},
   "outputs": [],
   "source": []
  }
 ],
 "metadata": {
  "kernelspec": {
   "display_name": "Python 3 (ipykernel)",
   "language": "python",
   "name": "python3"
  },
  "language_info": {
   "codemirror_mode": {
    "name": "ipython",
    "version": 3
   },
   "file_extension": ".py",
   "mimetype": "text/x-python",
   "name": "python",
   "nbconvert_exporter": "python",
   "pygments_lexer": "ipython3",
   "version": "3.9.7"
  }
 },
 "nbformat": 4,
 "nbformat_minor": 5
}
