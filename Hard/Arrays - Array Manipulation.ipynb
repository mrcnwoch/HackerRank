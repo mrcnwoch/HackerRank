{
 "cells": [
  {
   "cell_type": "code",
   "execution_count": 128,
   "metadata": {},
   "outputs": [],
   "source": [
    "def arrayManipulation(n, queries): ##O(nm)\n",
    "    arr = [0] * n\n",
    "    mx = 0\n",
    "    \n",
    "    for i in range(len(queries)):\n",
    "        idx1 = queries[i][0] - 1\n",
    "        idx2 = queries[i][1]\n",
    "        for j in range(idx1, idx2):\n",
    "            arr[j] += queries[i][2] \n",
    "            if arr[j] > mx:\n",
    "                mx = arr[j]\n",
    "        \n",
    "    return mx"
   ]
  },
  {
   "cell_type": "code",
   "execution_count": 3,
   "metadata": {},
   "outputs": [],
   "source": [
    "def arrayManipulation(n, queries):\n",
    "    arr = [0] * n\n",
    "    mx = 0\n",
    "    \n",
    "    for i in range(len(queries)):\n",
    "        idx1 = queries[i][0] - 1\n",
    "        idx2 = queries[i][1]\n",
    "        \n",
    "        arr[idx1] += queries[i][2]\n",
    "        if idx2 != len(arr):\n",
    "            arr[idx2] -= queries[i][2]\n",
    "        \n",
    "    itt = 0\n",
    "    for q in arr:\n",
    "        itt += q\n",
    "        if itt > mx:\n",
    "            mx = itt\n",
    "        \n",
    "    return mx"
   ]
  },
  {
   "cell_type": "code",
   "execution_count": 4,
   "metadata": {},
   "outputs": [
    {
     "data": {
      "text/plain": [
       "200"
      ]
     },
     "execution_count": 4,
     "metadata": {},
     "output_type": "execute_result"
    }
   ],
   "source": [
    "arrayManipulation(5, [[1, 2, 100], [2, 5, 100], [3, 4, 100]])"
   ]
  },
  {
   "cell_type": "code",
   "execution_count": 5,
   "metadata": {},
   "outputs": [],
   "source": [
    "import math\n",
    "import os\n",
    "import random\n",
    "import re\n",
    "import sys"
   ]
  },
  {
   "cell_type": "code",
   "execution_count": 6,
   "metadata": {},
   "outputs": [
    {
     "data": {
      "text/plain": [
       "2497169732"
      ]
     },
     "execution_count": 6,
     "metadata": {},
     "output_type": "execute_result"
    }
   ],
   "source": [
    "fptr = open('c:/USB/Projects/HackerRank/test.txt', 'r')\n",
    "\n",
    "idx = 0\n",
    "n = 0\n",
    "m = 0\n",
    "queries = []\n",
    "for line in fptr:\n",
    "    if idx == 0:\n",
    "        nm = line.split()\n",
    "        n = int(nm[0])\n",
    "        m = int(nm[1])\n",
    "    else:\n",
    "        ln = line.split()\n",
    "        query = []\n",
    "        query.append(int(ln[0]))\n",
    "        query.append(int(ln[1]))\n",
    "        query.append(int(ln[2]))\n",
    "        queries.append(query)\n",
    "        \n",
    "    idx += 1\n",
    "    \n",
    "fptr.close()\n",
    "\n",
    "arrayManipulation(n, queries)"
   ]
  },
  {
   "cell_type": "code",
   "execution_count": null,
   "metadata": {},
   "outputs": [],
   "source": []
  }
 ],
 "metadata": {
  "kernelspec": {
   "display_name": "Python 3",
   "language": "python",
   "name": "python3"
  },
  "language_info": {
   "codemirror_mode": {
    "name": "ipython",
    "version": 3
   },
   "file_extension": ".py",
   "mimetype": "text/x-python",
   "name": "python",
   "nbconvert_exporter": "python",
   "pygments_lexer": "ipython3",
   "version": "3.6.4"
  }
 },
 "nbformat": 4,
 "nbformat_minor": 2
}
