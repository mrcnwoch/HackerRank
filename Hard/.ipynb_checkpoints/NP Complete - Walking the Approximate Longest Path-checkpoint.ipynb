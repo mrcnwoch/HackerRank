{
 "cells": [
  {
   "cell_type": "code",
   "execution_count": 7,
   "id": "22fc2080",
   "metadata": {},
   "outputs": [
    {
     "name": "stdout",
     "output_type": "stream",
     "text": [
      "5 5\n",
      "3 1\n",
      "3 4\n",
      "2 4\n",
      "2 3\n",
      "4 1\n",
      "{3: {2, 4}, 1: {3}, 4: {1, 3}, 2: {4}}\n",
      "5\n",
      "1 3 2 4 1\n"
     ]
    }
   ],
   "source": [
    "n, m = map(int, input().split()) #vertices, connections\n",
    "conn = []\n",
    "visited = {}\n",
    "for i in range(m):\n",
    "    [x, y] = list(map(int, input().split()))\n",
    "    conn.append([x, y])\n",
    "    if not x in visited:visited[x] = {y}\n",
    "    if x in visited:visited[x].add(y)\n",
    "    if not y in visited:visited[y] = {x}\n",
    "    if y in visited:visited[y].add(x)\n",
    "        \n",
    "count = [0] * (n + 1)\n",
    "\n",
    "for x in visited:\n",
    "    count[x] = len(visited[x])\n",
    "    \n",
    "_, start = min([[count[z], z] for z in visited], key = lambda a:a[0])\n",
    "path = [start]\n",
    "x = start\n",
    "\n",
    "for i in range(1, n):\n",
    "    if len(visited[x]) == 0:break\n",
    "    _, y = min([[count[z], z] for z in visited[x]], key = lambda a:a[0])\n",
    "    if x in visited[y]: visited[y].remove(x)\n",
    "    count[y] -= 1\n",
    "    path.append(y)\n",
    "    x = y\n",
    "        \n",
    "print(len(path))\n",
    "print(*path, sep = \" \")"
   ]
  },
  {
   "cell_type": "code",
   "execution_count": null,
   "id": "0b3cffe6",
   "metadata": {},
   "outputs": [],
   "source": []
  },
  {
   "cell_type": "code",
   "execution_count": null,
   "id": "e361554f",
   "metadata": {},
   "outputs": [],
   "source": []
  }
 ],
 "metadata": {
  "kernelspec": {
   "display_name": "Python 3 (ipykernel)",
   "language": "python",
   "name": "python3"
  },
  "language_info": {
   "codemirror_mode": {
    "name": "ipython",
    "version": 3
   },
   "file_extension": ".py",
   "mimetype": "text/x-python",
   "name": "python",
   "nbconvert_exporter": "python",
   "pygments_lexer": "ipython3",
   "version": "3.9.7"
  }
 },
 "nbformat": 4,
 "nbformat_minor": 5
}
