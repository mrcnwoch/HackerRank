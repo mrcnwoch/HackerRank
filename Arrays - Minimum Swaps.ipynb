{
 "cells": [
  {
   "cell_type": "code",
   "execution_count": 7,
   "metadata": {},
   "outputs": [],
   "source": [
    "def minimumSwaps(arr):\n",
    "    swaps = 0\n",
    "    while True:\n",
    "        no_swap = True\n",
    "        for i in range(len(arr)):\n",
    "            start_pos = arr[i] - 1\n",
    "            if i != start_pos:\n",
    "                tmp = arr[i]\n",
    "                arr[i] = arr[start_pos]\n",
    "                arr[start_pos] = tmp\n",
    "                swaps += 1\n",
    "                no_swap = False\n",
    "                \n",
    "        if no_swap:\n",
    "            return swaps\n",
    "        \n",
    "    return swaps\n"
   ]
  },
  {
   "cell_type": "code",
   "execution_count": 10,
   "metadata": {},
   "outputs": [
    {
     "data": {
      "text/plain": [
       "3"
      ]
     },
     "execution_count": 10,
     "metadata": {},
     "output_type": "execute_result"
    }
   ],
   "source": [
    "minimumSwaps([1, 3, 5, 2, 4, 6, 7])"
   ]
  },
  {
   "cell_type": "code",
   "execution_count": null,
   "metadata": {},
   "outputs": [],
   "source": []
  }
 ],
 "metadata": {
  "kernelspec": {
   "display_name": "Python 3",
   "language": "python",
   "name": "python3"
  },
  "language_info": {
   "codemirror_mode": {
    "name": "ipython",
    "version": 3
   },
   "file_extension": ".py",
   "mimetype": "text/x-python",
   "name": "python",
   "nbconvert_exporter": "python",
   "pygments_lexer": "ipython3",
   "version": "3.6.4"
  }
 },
 "nbformat": 4,
 "nbformat_minor": 2
}
