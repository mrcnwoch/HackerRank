{
 "cells": [
  {
   "cell_type": "code",
   "execution_count": 8,
   "id": "7770a51a",
   "metadata": {},
   "outputs": [],
   "source": [
    "def bigSorting(unsorted):\n",
    "    unsorted.sort(key = int)\n",
    "    \n",
    "    return unsorted"
   ]
  },
  {
   "cell_type": "code",
   "execution_count": 9,
   "id": "397d44ae",
   "metadata": {},
   "outputs": [
    {
     "data": {
      "text/plain": [
       "['1', '3', '3', '5', '10', '31415926535897932384626433832795']"
      ]
     },
     "execution_count": 9,
     "metadata": {},
     "output_type": "execute_result"
    }
   ],
   "source": [
    "arr = ['31415926535897932384626433832795', '1', '3', '10', '3', '5']\n",
    "bigSorting(arr)"
   ]
  },
  {
   "cell_type": "code",
   "execution_count": null,
   "id": "da37a6b8",
   "metadata": {},
   "outputs": [],
   "source": []
  }
 ],
 "metadata": {
  "kernelspec": {
   "display_name": "Python 3 (ipykernel)",
   "language": "python",
   "name": "python3"
  },
  "language_info": {
   "codemirror_mode": {
    "name": "ipython",
    "version": 3
   },
   "file_extension": ".py",
   "mimetype": "text/x-python",
   "name": "python",
   "nbconvert_exporter": "python",
   "pygments_lexer": "ipython3",
   "version": "3.9.7"
  }
 },
 "nbformat": 4,
 "nbformat_minor": 5
}
