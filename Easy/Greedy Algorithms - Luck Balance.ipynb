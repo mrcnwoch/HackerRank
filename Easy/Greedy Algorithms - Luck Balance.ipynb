{
 "cells": [
  {
   "cell_type": "code",
   "execution_count": 39,
   "metadata": {},
   "outputs": [],
   "source": [
    "def luckBalance(k, contests):\n",
    "    imp_contest = []\n",
    "    notimp_contest = []\n",
    "    \n",
    "    for contest in contests:\n",
    "        if contest[1] == 0:\n",
    "            notimp_contest.append(contest[0])\n",
    "        else:\n",
    "            imp_contest.append(contest[0])        \n",
    "\n",
    "    imp_contest.sort(reverse = True)\n",
    "           \n",
    "    luck = sum(imp_contest[:k]) + sum(notimp_contest) - sum(imp_contest[k:])\n",
    "    \n",
    "    return luck"
   ]
  },
  {
   "cell_type": "code",
   "execution_count": 43,
   "metadata": {},
   "outputs": [
    {
     "name": "stdout",
     "output_type": "stream",
     "text": [
      "[8, 2, 1, -5] 11 15\n"
     ]
    },
    {
     "data": {
      "text/plain": [
       "31"
      ]
     },
     "execution_count": 43,
     "metadata": {},
     "output_type": "execute_result"
    }
   ],
   "source": [
    "luckBalance(3, [[-5, 1], [2, 1], [1, 1], [8, 1], [10, 0], [5, 0]])"
   ]
  },
  {
   "cell_type": "code",
   "execution_count": null,
   "metadata": {},
   "outputs": [],
   "source": []
  }
 ],
 "metadata": {
  "kernelspec": {
   "display_name": "Python 3",
   "language": "python",
   "name": "python3"
  },
  "language_info": {
   "codemirror_mode": {
    "name": "ipython",
    "version": 3
   },
   "file_extension": ".py",
   "mimetype": "text/x-python",
   "name": "python",
   "nbconvert_exporter": "python",
   "pygments_lexer": "ipython3",
   "version": "3.6.4"
  }
 },
 "nbformat": 4,
 "nbformat_minor": 2
}
