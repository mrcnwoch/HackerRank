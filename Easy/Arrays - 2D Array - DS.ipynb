{
 "cells": [
  {
   "cell_type": "code",
   "execution_count": 67,
   "metadata": {},
   "outputs": [],
   "source": [
    "def hourglassSum(arr):\n",
    "    rows = len(arr)\n",
    "    mx = -6 * 9\n",
    "    \n",
    "    for i in range(rows - 2):\n",
    "        for j in range(len(arr[0])-2):\n",
    "            sm = arr[i][j] + arr[i][j + 1] + arr[i][j + 2] + \\\n",
    "                 arr[i + 1][j + 1] + \\\n",
    "                 arr[i + 2][j] + arr[i + 2][j + 1] + arr[i + 2][j + 2]\n",
    "            if mx < sm:\n",
    "                mx = sm\n",
    "            \n",
    "    return mx"
   ]
  },
  {
   "cell_type": "code",
   "execution_count": 68,
   "metadata": {},
   "outputs": [
    {
     "data": {
      "text/plain": [
       "19"
      ]
     },
     "execution_count": 68,
     "metadata": {},
     "output_type": "execute_result"
    }
   ],
   "source": [
    "arr = [[1, 1, 1, 0, 0, 0],\n",
    "       [0, 1, 0, 0, 0, 0],\n",
    "       [1, 1, 1, 0, 0, 0],\n",
    "       [0, 0, 2, 4, 4, 0],\n",
    "       [0, 0, 0, 2, 0, 0],\n",
    "       [0, 0, 1, 2, 4, 0]]\n",
    "hourglassSum(arr)"
   ]
  },
  {
   "cell_type": "code",
   "execution_count": null,
   "metadata": {},
   "outputs": [],
   "source": []
  }
 ],
 "metadata": {
  "kernelspec": {
   "display_name": "Python 3",
   "language": "python",
   "name": "python3"
  },
  "language_info": {
   "codemirror_mode": {
    "name": "ipython",
    "version": 3
   },
   "file_extension": ".py",
   "mimetype": "text/x-python",
   "name": "python",
   "nbconvert_exporter": "python",
   "pygments_lexer": "ipython3",
   "version": "3.6.4"
  }
 },
 "nbformat": 4,
 "nbformat_minor": 2
}
