{
 "cells": [
  {
   "cell_type": "code",
   "execution_count": 20,
   "id": "b81eeb09-3ea6-4831-a0ea-997a1cfb055e",
   "metadata": {},
   "outputs": [],
   "source": [
    "def fairRations(B):\n",
    "    sm = 0;\n",
    "    curr = -1\n",
    "    paired = -1\n",
    "    dist = 0\n",
    "    total = 0;\n",
    "\n",
    "    for i in B:\n",
    "        sm += i\n",
    "        if (i % 2 == 1) and (curr == -1):\n",
    "            curr = i\n",
    "            paired = -1\n",
    "            dist = 0\n",
    "        elif (curr != -1) and (i % 2 == 1):\n",
    "            paired = i\n",
    "            curr = -1\n",
    "            loavesNeeded = (2 + ((dist + 1) - 1) * 2)\n",
    "            total += loavesNeeded\n",
    "        else:\n",
    "            dist += 1   \n",
    "\n",
    "    if (sm % 2 == 1):\n",
    "        return \"NO\"\n",
    "    else :\n",
    "        return str(total)"
   ]
  },
  {
   "cell_type": "code",
   "execution_count": 21,
   "id": "99b614ae-5d29-47d6-b7e7-7a52d1929e1b",
   "metadata": {},
   "outputs": [
    {
     "data": {
      "text/plain": [
       "'0'"
      ]
     },
     "execution_count": 21,
     "metadata": {},
     "output_type": "execute_result"
    }
   ],
   "source": [
    "B = [4, 2, 6, 8]\n",
    "#B = [4, 5, 7, 6]\n",
    "#B = [4, 3, 3, 3, 4, 4]\n",
    "\n",
    "fairRations(B)"
   ]
  },
  {
   "cell_type": "code",
   "execution_count": null,
   "id": "fade150f-5d32-476b-b716-8701539b3334",
   "metadata": {},
   "outputs": [],
   "source": []
  }
 ],
 "metadata": {
  "kernelspec": {
   "display_name": "Python 3 (ipykernel)",
   "language": "python",
   "name": "python3"
  },
  "language_info": {
   "codemirror_mode": {
    "name": "ipython",
    "version": 3
   },
   "file_extension": ".py",
   "mimetype": "text/x-python",
   "name": "python",
   "nbconvert_exporter": "python",
   "pygments_lexer": "ipython3",
   "version": "3.11.7"
  }
 },
 "nbformat": 4,
 "nbformat_minor": 5
}
