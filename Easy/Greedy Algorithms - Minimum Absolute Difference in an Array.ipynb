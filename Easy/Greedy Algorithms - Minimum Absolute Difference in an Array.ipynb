{
 "cells": [
  {
   "cell_type": "code",
   "execution_count": 19,
   "metadata": {},
   "outputs": [],
   "source": [
    "def minimumAbsoluteDifference(arr):\n",
    "    arr.sort()\n",
    "    \n",
    "    min_diff = abs(arr[0] - arr[1])\n",
    "    for i in range(1, len(arr) - 1):\n",
    "        diff = abs(arr[i] - arr[i + 1])\n",
    "        if min_diff > diff:\n",
    "            min_diff = diff\n",
    "    \n",
    "    return min_diff"
   ]
  },
  {
   "cell_type": "code",
   "execution_count": 22,
   "metadata": {},
   "outputs": [
    {
     "data": {
      "text/plain": [
       "3"
      ]
     },
     "execution_count": 22,
     "metadata": {},
     "output_type": "execute_result"
    }
   ],
   "source": [
    "minimumAbsoluteDifference([1, -3, 71, 68, 17])"
   ]
  },
  {
   "cell_type": "code",
   "execution_count": null,
   "metadata": {},
   "outputs": [],
   "source": []
  }
 ],
 "metadata": {
  "kernelspec": {
   "display_name": "Python 3",
   "language": "python",
   "name": "python3"
  },
  "language_info": {
   "codemirror_mode": {
    "name": "ipython",
    "version": 3
   },
   "file_extension": ".py",
   "mimetype": "text/x-python",
   "name": "python",
   "nbconvert_exporter": "python",
   "pygments_lexer": "ipython3",
   "version": "3.6.4"
  }
 },
 "nbformat": 4,
 "nbformat_minor": 2
}
