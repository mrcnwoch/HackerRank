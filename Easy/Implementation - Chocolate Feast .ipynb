{
 "cells": [
  {
   "cell_type": "code",
   "execution_count": 21,
   "id": "38e3dbb7-9aa7-4212-a397-243beb71bb18",
   "metadata": {},
   "outputs": [],
   "source": [
    "def chocolateFeast(n, c, m):\n",
    "    no_choc = n // c\n",
    "    no_wrappers = no_choc\n",
    "    \n",
    "    while no_wrappers >= m:\n",
    "        new_choc = no_wrappers // m\n",
    "        no_choc += new_choc\n",
    "        no_wrappers = (no_wrappers % m) + new_choc\n",
    "\n",
    "    return no_choc"
   ]
  },
  {
   "cell_type": "code",
   "execution_count": 23,
   "id": "d04a821a-729c-488b-a06c-4f30739d129c",
   "metadata": {},
   "outputs": [
    {
     "data": {
      "text/plain": [
       "5"
      ]
     },
     "execution_count": 23,
     "metadata": {},
     "output_type": "execute_result"
    }
   ],
   "source": [
    "n = 15; c = 3; m = 2\n",
    "n = 10; c = 2; m = 5\n",
    "n = 12; c = 4; m = 4\n",
    "n = 6;  c = 2; m = 2\n",
    "chocolateFeast(n, c, m)"
   ]
  },
  {
   "cell_type": "code",
   "execution_count": null,
   "id": "124a6319-5041-4bbc-b703-53168d12d5ed",
   "metadata": {},
   "outputs": [],
   "source": []
  }
 ],
 "metadata": {
  "kernelspec": {
   "display_name": "Python 3 (ipykernel)",
   "language": "python",
   "name": "python3"
  },
  "language_info": {
   "codemirror_mode": {
    "name": "ipython",
    "version": 3
   },
   "file_extension": ".py",
   "mimetype": "text/x-python",
   "name": "python",
   "nbconvert_exporter": "python",
   "pygments_lexer": "ipython3",
   "version": "3.11.7"
  }
 },
 "nbformat": 4,
 "nbformat_minor": 5
}
