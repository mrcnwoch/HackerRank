{
 "cells": [
  {
   "cell_type": "code",
   "execution_count": 24,
   "id": "2cae28c3",
   "metadata": {},
   "outputs": [],
   "source": [
    "def serviceLane(n, cases, width):\n",
    "    lst = []\n",
    "    \n",
    "    for case in cases:\n",
    "        mn = min(width[case[0]:case[1] + 1])\n",
    "        lst.append(mn)\n",
    "        \n",
    "    return lst"
   ]
  },
  {
   "cell_type": "code",
   "execution_count": 26,
   "id": "5a91b005",
   "metadata": {},
   "outputs": [
    {
     "data": {
      "text/plain": [
       "[1, 2, 3, 2, 1]"
      ]
     },
     "execution_count": 26,
     "metadata": {},
     "output_type": "execute_result"
    }
   ],
   "source": [
    "n = 4; cases = [[0, 1], [1, 3]]; width = [2, 3, 2, 1]\n",
    "n = 8; cases = [[0, 3], [4, 6], [6, 7], [3, 5], [0, 7]]; width = [2, 3, 1, 2, 3, 2, 3, 3]\n",
    "serviceLane(n, cases, width)"
   ]
  },
  {
   "cell_type": "code",
   "execution_count": null,
   "id": "b2b53aa5",
   "metadata": {},
   "outputs": [],
   "source": []
  }
 ],
 "metadata": {
  "kernelspec": {
   "display_name": "Python 3 (ipykernel)",
   "language": "python",
   "name": "python3"
  },
  "language_info": {
   "codemirror_mode": {
    "name": "ipython",
    "version": 3
   },
   "file_extension": ".py",
   "mimetype": "text/x-python",
   "name": "python",
   "nbconvert_exporter": "python",
   "pygments_lexer": "ipython3",
   "version": "3.9.7"
  }
 },
 "nbformat": 4,
 "nbformat_minor": 5
}
