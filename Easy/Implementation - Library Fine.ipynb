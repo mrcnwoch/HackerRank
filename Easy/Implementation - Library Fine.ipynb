{
 "cells": [
  {
   "cell_type": "code",
   "execution_count": 17,
   "id": "2473e3a9",
   "metadata": {},
   "outputs": [],
   "source": [
    "def libraryFine(d1, m1, y1, d2, m2, y2):\n",
    "    fine = 0\n",
    "    \n",
    "    if y1 > y2:\n",
    "        fine = 10000\n",
    "    elif y1 == y2:\n",
    "        if m1 > m2:\n",
    "            fine = 500 * (m1 - m2)\n",
    "        elif m1 == m2:\n",
    "            if d1 > d2:\n",
    "                fine = 15 * (d1 - d2)\n",
    "    \n",
    "    return fine"
   ]
  },
  {
   "cell_type": "code",
   "execution_count": 20,
   "id": "aca64b4a",
   "metadata": {},
   "outputs": [
    {
     "data": {
      "text/plain": [
       "135"
      ]
     },
     "execution_count": 20,
     "metadata": {},
     "output_type": "execute_result"
    }
   ],
   "source": [
    "d1, m1, y1 = 14, 7, 2018; d2, m2, y2 = 5, 7, 2018;\n",
    "#d1, m1, y1 = 9, 6, 2015; d2, m2, y2 = 6, 6, 2015;\n",
    "\n",
    "#d1, m1, y1 = 2, 7, 1014; d2, m2, y2 = 1, 1, 1015;\n",
    "\n",
    "libraryFine(d1, m1, y1, d2, m2, y2)"
   ]
  },
  {
   "cell_type": "code",
   "execution_count": null,
   "id": "c4391fc5",
   "metadata": {},
   "outputs": [],
   "source": []
  }
 ],
 "metadata": {
  "kernelspec": {
   "display_name": "Python 3 (ipykernel)",
   "language": "python",
   "name": "python3"
  },
  "language_info": {
   "codemirror_mode": {
    "name": "ipython",
    "version": 3
   },
   "file_extension": ".py",
   "mimetype": "text/x-python",
   "name": "python",
   "nbconvert_exporter": "python",
   "pygments_lexer": "ipython3",
   "version": "3.9.7"
  }
 },
 "nbformat": 4,
 "nbformat_minor": 5
}
