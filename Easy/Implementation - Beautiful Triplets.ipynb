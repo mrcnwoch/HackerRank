{
 "cells": [
  {
   "cell_type": "code",
   "execution_count": 14,
   "id": "fd82b26f-cb4e-4b56-bef1-80fcae7ab727",
   "metadata": {},
   "outputs": [],
   "source": [
    "def beautifulTriplets(d, arr): #Brute force approach O(n^3) - works on unsorted arrays\n",
    "    triplets = 0\n",
    "    \n",
    "    for i in range(len(arr)):\n",
    "        for j in range(i + 1, len(arr)):\n",
    "            for k in range(j + 1, len(arr)):\n",
    "                if arr[j] - arr[i] == d and arr[k] - arr[j] == d:\n",
    "                    triplets += 1\n",
    "\n",
    "    return triplets"
   ]
  },
  {
   "cell_type": "code",
   "execution_count": 20,
   "id": "7aca75f5-50c7-44e7-a393-4360862a6f59",
   "metadata": {},
   "outputs": [],
   "source": [
    "def beautifulTriplets(d, arr): #Assuming the array is sorted (as per HR constraint)\n",
    "    triplets = 0\n",
    "    \n",
    "    for el in arr:\n",
    "        if el + d in arr and el + 2 * d in arr:\n",
    "            triplets += 1\n",
    "\n",
    "    return triplets"
   ]
  },
  {
   "cell_type": "code",
   "execution_count": 21,
   "id": "46489e9c-2c46-44f1-9ef3-472007964406",
   "metadata": {},
   "outputs": [
    {
     "data": {
      "text/plain": [
       "3"
      ]
     },
     "execution_count": 21,
     "metadata": {},
     "output_type": "execute_result"
    }
   ],
   "source": [
    "arr = [2, 2, 3, 4, 5]; d = 1\n",
    "beautifulTriplets(d, arr)"
   ]
  },
  {
   "cell_type": "code",
   "execution_count": null,
   "id": "177f0ea8-e780-40ab-bdfb-1d361b18474a",
   "metadata": {},
   "outputs": [],
   "source": []
  }
 ],
 "metadata": {
  "kernelspec": {
   "display_name": "Python 3 (ipykernel)",
   "language": "python",
   "name": "python3"
  },
  "language_info": {
   "codemirror_mode": {
    "name": "ipython",
    "version": 3
   },
   "file_extension": ".py",
   "mimetype": "text/x-python",
   "name": "python",
   "nbconvert_exporter": "python",
   "pygments_lexer": "ipython3",
   "version": "3.11.7"
  }
 },
 "nbformat": 4,
 "nbformat_minor": 5
}
