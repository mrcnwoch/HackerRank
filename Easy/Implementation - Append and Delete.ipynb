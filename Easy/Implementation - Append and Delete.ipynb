{
 "cells": [
  {
   "cell_type": "code",
   "execution_count": 11,
   "id": "28394c35",
   "metadata": {},
   "outputs": [],
   "source": [
    "def appendAndDelete(s, t, k):\n",
    "    matched = 0\n",
    "    tot_len = len(s) + len(t)\n",
    "    \n",
    "    for (char_s, char_t) in zip(s, t):\n",
    "        if char_s == char_t:\n",
    "            matched += 1\n",
    "        else:\n",
    "            break\n",
    "                \n",
    "    return 'Yes' if (2 * matched + k >= tot_len and tot_len % 2 == k % 2) or tot_len < k else 'No'"
   ]
  },
  {
   "cell_type": "code",
   "execution_count": 12,
   "id": "d0e4567e",
   "metadata": {},
   "outputs": [
    {
     "name": "stdout",
     "output_type": "stream",
     "text": [
      "h h\n",
      "a a\n",
      "c c\n",
      "k k\n",
      "e e\n",
      "r r\n",
      "h r\n"
     ]
    },
    {
     "data": {
      "text/plain": [
       "'Yes'"
      ]
     },
     "execution_count": 12,
     "metadata": {},
     "output_type": "execute_result"
    }
   ],
   "source": [
    "s = 'hackerhappy'; t = 'hackerrank'; k = 9\n",
    "#s = 'abc'; t = 'def'; k = 6\n",
    "#s = 'aba'; t = 'aba'; k = 7\n",
    "#s = 'ashley'; t = 'ash'; k = 2\n",
    "#s = 'y'; t = 'yu'; k = 2\n",
    "\n",
    "appendAndDelete(s, t, k)"
   ]
  },
  {
   "cell_type": "code",
   "execution_count": null,
   "id": "97c37bbb",
   "metadata": {},
   "outputs": [],
   "source": []
  }
 ],
 "metadata": {
  "kernelspec": {
   "display_name": "Python 3 (ipykernel)",
   "language": "python",
   "name": "python3"
  },
  "language_info": {
   "codemirror_mode": {
    "name": "ipython",
    "version": 3
   },
   "file_extension": ".py",
   "mimetype": "text/x-python",
   "name": "python",
   "nbconvert_exporter": "python",
   "pygments_lexer": "ipython3",
   "version": "3.9.7"
  }
 },
 "nbformat": 4,
 "nbformat_minor": 5
}
