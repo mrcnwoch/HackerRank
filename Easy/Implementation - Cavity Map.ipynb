{
 "cells": [
  {
   "cell_type": "code",
   "execution_count": 50,
   "id": "8d23fef0-72f7-4d38-b3e5-1f0eefb98e90",
   "metadata": {},
   "outputs": [],
   "source": [
    "def cavityMap(grid):\n",
    "    grid_res = []\n",
    "    for r_idx in range(1, len(grid) - 1):\n",
    "        for c_idx in range(1, len(grid[r_idx]) - 1):\n",
    "            curr = grid[r_idx][c_idx]\n",
    "            left = grid[r_idx][c_idx - 1]\n",
    "            right = grid[r_idx][c_idx + 1]\n",
    "            up = grid[r_idx - 1][c_idx]\n",
    "            down = grid[r_idx + 1][c_idx]\n",
    "\n",
    "            if (curr > left) and (curr > right) and (curr > up) and (curr > down):\n",
    "                curr = 'X'\n",
    "                res = grid[r_idx][:c_idx] + curr + grid[r_idx][c_idx+1:]\n",
    "                grid[r_idx] = res\n",
    "                grid_res.append(res)\n",
    "                \n",
    "    return grid"
   ]
  },
  {
   "cell_type": "code",
   "execution_count": 52,
   "id": "1884f187-abab-4dd4-ba80-6872859e49f8",
   "metadata": {},
   "outputs": [
    {
     "data": {
      "text/plain": [
       "['1112', '1X12', '18X2', '1234']"
      ]
     },
     "execution_count": 52,
     "metadata": {},
     "output_type": "execute_result"
    }
   ],
   "source": [
    "grid = ['989', '191', '111']\n",
    "grid = ['1112', '1912', '1892', '1234']\n",
    "cavityMap(grid)"
   ]
  },
  {
   "cell_type": "code",
   "execution_count": null,
   "id": "0d3ec716-aa06-42a5-ba90-1647cea7bc90",
   "metadata": {},
   "outputs": [],
   "source": []
  }
 ],
 "metadata": {
  "kernelspec": {
   "display_name": "Python 3 (ipykernel)",
   "language": "python",
   "name": "python3"
  },
  "language_info": {
   "codemirror_mode": {
    "name": "ipython",
    "version": 3
   },
   "file_extension": ".py",
   "mimetype": "text/x-python",
   "name": "python",
   "nbconvert_exporter": "python",
   "pygments_lexer": "ipython3",
   "version": "3.13.2"
  }
 },
 "nbformat": 4,
 "nbformat_minor": 5
}
