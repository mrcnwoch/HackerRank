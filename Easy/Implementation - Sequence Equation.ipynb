{
 "cells": [
  {
   "cell_type": "code",
   "execution_count": 25,
   "id": "6423734a",
   "metadata": {},
   "outputs": [],
   "source": [
    "def permutationEquation(p):\n",
    "    ret = []\n",
    "    for i in range(1, len(p) + 1):\n",
    "        idx1 = p.index(i) + 1\n",
    "        idx2 = p.index(idx1) + 1\n",
    "        ret.append(idx2)\n",
    "        \n",
    "    return ret"
   ]
  },
  {
   "cell_type": "code",
   "execution_count": 27,
   "id": "2b897475",
   "metadata": {},
   "outputs": [
    {
     "data": {
      "text/plain": [
       "[1, 3, 5, 4, 2]"
      ]
     },
     "execution_count": 27,
     "metadata": {},
     "output_type": "execute_result"
    }
   ],
   "source": [
    "p = [5, 2, 1, 3, 4]\n",
    "p = [2, 3, 1]\n",
    "p = [4, 3, 5, 1, 2]\n",
    "permutationEquation(p)"
   ]
  },
  {
   "cell_type": "code",
   "execution_count": null,
   "id": "3b86c69f",
   "metadata": {},
   "outputs": [],
   "source": []
  }
 ],
 "metadata": {
  "kernelspec": {
   "display_name": "Python 3 (ipykernel)",
   "language": "python",
   "name": "python3"
  },
  "language_info": {
   "codemirror_mode": {
    "name": "ipython",
    "version": 3
   },
   "file_extension": ".py",
   "mimetype": "text/x-python",
   "name": "python",
   "nbconvert_exporter": "python",
   "pygments_lexer": "ipython3",
   "version": "3.9.7"
  }
 },
 "nbformat": 4,
 "nbformat_minor": 5
}
