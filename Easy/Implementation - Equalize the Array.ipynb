{
 "cells": [
  {
   "cell_type": "code",
   "execution_count": 37,
   "id": "1b8b1cf4",
   "metadata": {},
   "outputs": [],
   "source": [
    "def equalizeArray(arr):\n",
    "    elements_dict = dict((i, arr.count(i)) for i in arr)\n",
    "    max_el = max(elements_dict, key=elements_dict.get)\n",
    "    \n",
    "    cnt = 0\n",
    "    for key, value in elements_dict.items():\n",
    "        print(key, value)\n",
    "        if key != max_el:\n",
    "            cnt += value\n",
    "    \n",
    "    return cnt"
   ]
  },
  {
   "cell_type": "code",
   "execution_count": 40,
   "id": "f8ee0112",
   "metadata": {},
   "outputs": [
    {
     "name": "stdout",
     "output_type": "stream",
     "text": [
      "3 3\n",
      "2 1\n",
      "1 1\n"
     ]
    },
    {
     "data": {
      "text/plain": [
       "2"
      ]
     },
     "execution_count": 40,
     "metadata": {},
     "output_type": "execute_result"
    }
   ],
   "source": [
    "arr = [1, 2, 2, 3]\n",
    "arr = [3, 3, 2, 1, 3]\n",
    "#arr = [1, 2, 3, 1, 2, 3, 3, 3]\n",
    "equalizeArray(arr)"
   ]
  },
  {
   "cell_type": "code",
   "execution_count": null,
   "id": "d03d6c47",
   "metadata": {},
   "outputs": [],
   "source": []
  }
 ],
 "metadata": {
  "kernelspec": {
   "display_name": "Python 3 (ipykernel)",
   "language": "python",
   "name": "python3"
  },
  "language_info": {
   "codemirror_mode": {
    "name": "ipython",
    "version": 3
   },
   "file_extension": ".py",
   "mimetype": "text/x-python",
   "name": "python",
   "nbconvert_exporter": "python",
   "pygments_lexer": "ipython3",
   "version": "3.9.7"
  }
 },
 "nbformat": 4,
 "nbformat_minor": 5
}
