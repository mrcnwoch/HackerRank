{
 "cells": [
  {
   "cell_type": "code",
   "execution_count": 6,
   "id": "fe06f7f9",
   "metadata": {},
   "outputs": [],
   "source": [
    "def angryProfessor(k, a):\n",
    "    ontime = 0\n",
    "    \n",
    "    for st in a:\n",
    "        if st <= 0:\n",
    "            ontime += 1\n",
    "            \n",
    "    if ontime >= k:\n",
    "        return 'NO'\n",
    "    \n",
    "    return 'YES'"
   ]
  },
  {
   "cell_type": "code",
   "execution_count": 8,
   "id": "974df2f4",
   "metadata": {},
   "outputs": [
    {
     "data": {
      "text/plain": [
       "'NO'"
      ]
     },
     "execution_count": 8,
     "metadata": {},
     "output_type": "execute_result"
    }
   ],
   "source": [
    "k = 3\n",
    "a = [-2, -1, 0, 1, 2]\n",
    "\n",
    "k = 3\n",
    "a = [-1, -3, 4, 2]\n",
    "\n",
    "angryProfessor(k, a)"
   ]
  },
  {
   "cell_type": "code",
   "execution_count": null,
   "id": "dfc1c477",
   "metadata": {},
   "outputs": [],
   "source": []
  }
 ],
 "metadata": {
  "kernelspec": {
   "display_name": "Python 3 (ipykernel)",
   "language": "python",
   "name": "python3"
  },
  "language_info": {
   "codemirror_mode": {
    "name": "ipython",
    "version": 3
   },
   "file_extension": ".py",
   "mimetype": "text/x-python",
   "name": "python",
   "nbconvert_exporter": "python",
   "pygments_lexer": "ipython3",
   "version": "3.9.7"
  }
 },
 "nbformat": 4,
 "nbformat_minor": 5
}
