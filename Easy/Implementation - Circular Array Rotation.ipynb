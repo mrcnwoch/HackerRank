{
 "cells": [
  {
   "cell_type": "code",
   "execution_count": 29,
   "id": "c6288f00",
   "metadata": {},
   "outputs": [],
   "source": [
    "def circularArrayRotation(a, k, queries):\n",
    "    shifted_array = list(range(0, len(a)))\n",
    "    shifted_array = [(x + k) % len(a) for x in shifted_array]\n",
    "    \n",
    "    res = []\n",
    "    for i in queries:\n",
    "        idx = shifted_array.index(i)\n",
    "        res.append(a[idx])\n",
    "        \n",
    "    return res"
   ]
  },
  {
   "cell_type": "code",
   "execution_count": 30,
   "id": "42ea4f67",
   "metadata": {},
   "outputs": [
    {
     "data": {
      "text/plain": [
       "[5, 3]"
      ]
     },
     "execution_count": 30,
     "metadata": {},
     "output_type": "execute_result"
    }
   ],
   "source": [
    "a = [3, 4, 5]\n",
    "k = 2\n",
    "queries = [1, 2]\n",
    "\n",
    "circularArrayRotation(a, k, queries)"
   ]
  },
  {
   "cell_type": "code",
   "execution_count": null,
   "id": "f394b63e",
   "metadata": {},
   "outputs": [],
   "source": []
  }
 ],
 "metadata": {
  "kernelspec": {
   "display_name": "Python 3 (ipykernel)",
   "language": "python",
   "name": "python3"
  },
  "language_info": {
   "codemirror_mode": {
    "name": "ipython",
    "version": 3
   },
   "file_extension": ".py",
   "mimetype": "text/x-python",
   "name": "python",
   "nbconvert_exporter": "python",
   "pygments_lexer": "ipython3",
   "version": "3.9.7"
  }
 },
 "nbformat": 4,
 "nbformat_minor": 5
}
