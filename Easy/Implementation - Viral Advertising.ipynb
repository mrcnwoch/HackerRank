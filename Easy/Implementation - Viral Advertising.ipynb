{
 "cells": [
  {
   "cell_type": "code",
   "execution_count": 19,
   "id": "d4ab6d77",
   "metadata": {},
   "outputs": [],
   "source": [
    "def viralAdvertising(n):\n",
    "    shared = 5\n",
    "    liked = 0\n",
    "    cumulative = 0\n",
    "    \n",
    "    for i in range(n):\n",
    "        liked = shared // 2\n",
    "        cumulative += liked\n",
    "        shared = liked * 3\n",
    "        \n",
    "    return cumulative"
   ]
  },
  {
   "cell_type": "code",
   "execution_count": 20,
   "id": "94c8519a",
   "metadata": {},
   "outputs": [
    {
     "name": "stdout",
     "output_type": "stream",
     "text": [
      "1 5 2 2\n",
      "2 6 3 5\n",
      "3 9 4 9\n",
      "4 12 6 15\n",
      "5 18 9 24\n"
     ]
    },
    {
     "data": {
      "text/plain": [
       "24"
      ]
     },
     "execution_count": 20,
     "metadata": {},
     "output_type": "execute_result"
    }
   ],
   "source": [
    "viralAdvertising(5)"
   ]
  },
  {
   "cell_type": "code",
   "execution_count": null,
   "id": "b263e994",
   "metadata": {},
   "outputs": [],
   "source": []
  }
 ],
 "metadata": {
  "kernelspec": {
   "display_name": "Python 3 (ipykernel)",
   "language": "python",
   "name": "python3"
  },
  "language_info": {
   "codemirror_mode": {
    "name": "ipython",
    "version": 3
   },
   "file_extension": ".py",
   "mimetype": "text/x-python",
   "name": "python",
   "nbconvert_exporter": "python",
   "pygments_lexer": "ipython3",
   "version": "3.9.7"
  }
 },
 "nbformat": 4,
 "nbformat_minor": 5
}
