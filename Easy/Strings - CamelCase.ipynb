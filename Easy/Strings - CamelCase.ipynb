{
 "cells": [
  {
   "cell_type": "code",
   "execution_count": 11,
   "id": "91ea1ba9-2b97-4539-bb1e-376f50aaa712",
   "metadata": {},
   "outputs": [],
   "source": [
    "def camelcase(s):\n",
    "    no_capital_letters = sum(1 for c in s if c.isupper())\n",
    "    if not s[0].isupper():\n",
    "        no_capital_letters += 1\n",
    "    return no_capital_letters"
   ]
  },
  {
   "cell_type": "code",
   "execution_count": 12,
   "id": "325ebb7d-19e3-472f-8206-c604dc19f70f",
   "metadata": {},
   "outputs": [
    {
     "data": {
      "text/plain": [
       "5"
      ]
     },
     "execution_count": 12,
     "metadata": {},
     "output_type": "execute_result"
    }
   ],
   "source": [
    "s = 'saveChangesInTheEditor'\n",
    "camelcase(s)"
   ]
  },
  {
   "cell_type": "code",
   "execution_count": null,
   "id": "faea4f46-2dbe-4527-ba32-5184d617ce98",
   "metadata": {},
   "outputs": [],
   "source": []
  }
 ],
 "metadata": {
  "kernelspec": {
   "display_name": "Python 3 (ipykernel)",
   "language": "python",
   "name": "python3"
  },
  "language_info": {
   "codemirror_mode": {
    "name": "ipython",
    "version": 3
   },
   "file_extension": ".py",
   "mimetype": "text/x-python",
   "name": "python",
   "nbconvert_exporter": "python",
   "pygments_lexer": "ipython3",
   "version": "3.13.2"
  }
 },
 "nbformat": 4,
 "nbformat_minor": 5
}
