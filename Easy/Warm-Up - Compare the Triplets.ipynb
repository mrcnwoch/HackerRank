{
 "cells": [
  {
   "cell_type": "code",
   "execution_count": 17,
   "metadata": {},
   "outputs": [],
   "source": [
    "def compareTriplets(a, b):\n",
    "    diff =[]\n",
    "    alice = 0\n",
    "    bob = 0\n",
    "    for i in range(len(a)):\n",
    "        if a[i] - b[i] > 0:\n",
    "            alice += 1\n",
    "        elif a[i] - b[i] < 0:\n",
    "            bob += 1\n",
    "            \n",
    "    diff.append(alice)\n",
    "    diff.append(bob)\n",
    "    \n",
    "    return diff"
   ]
  },
  {
   "cell_type": "code",
   "execution_count": 18,
   "metadata": {},
   "outputs": [
    {
     "name": "stdout",
     "output_type": "stream",
     "text": [
      "[1, 1]\n",
      "[0, 0]\n"
     ]
    }
   ],
   "source": [
    "print(compareTriplets([5, 6, 7], [3, 6, 10]))\n",
    "print(compareTriplets([1, 2, 3], [1, 2, 3]))"
   ]
  },
  {
   "cell_type": "code",
   "execution_count": null,
   "metadata": {},
   "outputs": [],
   "source": []
  }
 ],
 "metadata": {
  "kernelspec": {
   "display_name": "Python 3",
   "language": "python",
   "name": "python3"
  },
  "language_info": {
   "codemirror_mode": {
    "name": "ipython",
    "version": 3
   },
   "file_extension": ".py",
   "mimetype": "text/x-python",
   "name": "python",
   "nbconvert_exporter": "python",
   "pygments_lexer": "ipython3",
   "version": "3.7.4"
  }
 },
 "nbformat": 4,
 "nbformat_minor": 2
}
