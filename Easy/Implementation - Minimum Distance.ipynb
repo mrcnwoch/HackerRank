{
 "cells": [
  {
   "cell_type": "code",
   "execution_count": 15,
   "id": "a7eb277c-ad08-49fd-9404-a18a0dbfcfda",
   "metadata": {},
   "outputs": [],
   "source": [
    "def minimumDistances(a):\n",
    "    dist = -1\n",
    "\n",
    "    for idx, no in enumerate(a):\n",
    "        if (no in a) and (a.index(no) != idx):\n",
    "            new_dist = abs(a.index(no) - idx)\n",
    "            if dist == -1 or dist > new_dist:\n",
    "                dist = new_dist\n",
    "\n",
    "    return dist"
   ]
  },
  {
   "cell_type": "code",
   "execution_count": 16,
   "id": "96d28ae6-13a7-475a-b905-d99d39979eae",
   "metadata": {},
   "outputs": [
    {
     "data": {
      "text/plain": [
       "2"
      ]
     },
     "execution_count": 16,
     "metadata": {},
     "output_type": "execute_result"
    }
   ],
   "source": [
    "a = [3, 2, 1, 2, 3]\n",
    "minimumDistances(a)"
   ]
  },
  {
   "cell_type": "code",
   "execution_count": null,
   "id": "784e0c4b-449a-45a7-815b-3b85a0ddff5f",
   "metadata": {},
   "outputs": [],
   "source": []
  }
 ],
 "metadata": {
  "kernelspec": {
   "display_name": "Python 3 (ipykernel)",
   "language": "python",
   "name": "python3"
  },
  "language_info": {
   "codemirror_mode": {
    "name": "ipython",
    "version": 3
   },
   "file_extension": ".py",
   "mimetype": "text/x-python",
   "name": "python",
   "nbconvert_exporter": "python",
   "pygments_lexer": "ipython3",
   "version": "3.11.7"
  }
 },
 "nbformat": 4,
 "nbformat_minor": 5
}
