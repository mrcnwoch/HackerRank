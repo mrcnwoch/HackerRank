{
 "cells": [
  {
   "cell_type": "code",
   "execution_count": 55,
   "id": "f204ab46",
   "metadata": {},
   "outputs": [],
   "source": [
    "def climbingLeaderboard_slow(ranked, player):\n",
    "    pos = []\n",
    "    for p in player:\n",
    "        ranked.append(p)\n",
    "        ranked = list(set(ranked))\n",
    "        ranked.sort(reverse = True)\n",
    "        pos.append(ranked.index(p) + 1)\n",
    "    \n",
    "    return pos"
   ]
  },
  {
   "cell_type": "code",
   "execution_count": 62,
   "id": "3f2fdfdb",
   "metadata": {},
   "outputs": [],
   "source": [
    "def climbingLeaderboard(ranked, player):\n",
    "    pos = []\n",
    "    u_ranked = list(set(ranked))\n",
    "    u_ranked.sort(reverse = True)\n",
    "    \n",
    "    for p in player:\n",
    "        u_ranked.append(p)\n",
    "        u_ranked = list(set(u_ranked))\n",
    "        u_ranked.sort(reverse = True)\n",
    "        pos.append(u_ranked.index(p) + 1)\n",
    "    \n",
    "    return pos"
   ]
  },
  {
   "cell_type": "code",
   "execution_count": 63,
   "id": "80025e4f",
   "metadata": {},
   "outputs": [
    {
     "data": {
      "text/plain": [
       "[4, 3, 1]"
      ]
     },
     "execution_count": 63,
     "metadata": {},
     "output_type": "execute_result"
    }
   ],
   "source": [
    "ranked = [100, 90, 90, 80]\n",
    "player = [70, 80, 105] #[4, 3, 1]\n",
    "\n",
    "#ranked = [100, 100, 50, 40, 40, 20, 10]\n",
    "#player = [5, 25, 50, 120] #[6, 4, 2, 1]\n",
    "\n",
    "#ranked = [100, 90, 90, 80, 75, 60]\n",
    "#player = [50, 65, 77, 90, 102]  #[6, 5, 4, 2, 1]\n",
    "\n",
    "#climbingLeaderboard_slow(ranked, player)\n",
    "climbingLeaderboard(ranked, player)"
   ]
  },
  {
   "cell_type": "code",
   "execution_count": null,
   "id": "58d102e0",
   "metadata": {},
   "outputs": [],
   "source": []
  }
 ],
 "metadata": {
  "kernelspec": {
   "display_name": "Python 3 (ipykernel)",
   "language": "python",
   "name": "python3"
  },
  "language_info": {
   "codemirror_mode": {
    "name": "ipython",
    "version": 3
   },
   "file_extension": ".py",
   "mimetype": "text/x-python",
   "name": "python",
   "nbconvert_exporter": "python",
   "pygments_lexer": "ipython3",
   "version": "3.9.7"
  }
 },
 "nbformat": 4,
 "nbformat_minor": 5
}
