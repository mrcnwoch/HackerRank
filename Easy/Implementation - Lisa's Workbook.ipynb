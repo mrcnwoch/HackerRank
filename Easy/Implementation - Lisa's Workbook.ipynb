{
 "cells": [
  {
   "cell_type": "code",
   "execution_count": 11,
   "id": "0841eef3-4f93-4ebf-b785-5094cf410baa",
   "metadata": {},
   "outputs": [],
   "source": [
    "import math"
   ]
  },
  {
   "cell_type": "code",
   "execution_count": 33,
   "id": "15b1e20b-5947-42f6-bfcf-2f7a9e31542a",
   "metadata": {},
   "outputs": [],
   "source": [
    "def workbook(n, k, arr):\n",
    "    special = 0\n",
    "    page_no = 1\n",
    "\n",
    "    for i in range(len(arr)):\n",
    "        page = math.ceil(arr[i] / k)\n",
    "\n",
    "        for j in range(0, page):\n",
    "            if page_no in [num for num in range(j*k+1, min(arr[i]+1,(j+1)*k+1))]:\n",
    "                special += 1\n",
    "            page_no += 1\n",
    "\n",
    "    return special"
   ]
  },
  {
   "cell_type": "code",
   "execution_count": 34,
   "id": "5d07d929-63b6-4128-9626-3d988e8386db",
   "metadata": {},
   "outputs": [
    {
     "data": {
      "text/plain": [
       "1"
      ]
     },
     "execution_count": 34,
     "metadata": {},
     "output_type": "execute_result"
    }
   ],
   "source": [
    "n = 2; arr = [4, 2]; k = 3\n",
    "workbook(n, k, arr)"
   ]
  },
  {
   "cell_type": "code",
   "execution_count": null,
   "id": "afb15569-3625-4fea-9fc9-1d7df27fd106",
   "metadata": {},
   "outputs": [],
   "source": []
  }
 ],
 "metadata": {
  "kernelspec": {
   "display_name": "Python 3 (ipykernel)",
   "language": "python",
   "name": "python3"
  },
  "language_info": {
   "codemirror_mode": {
    "name": "ipython",
    "version": 3
   },
   "file_extension": ".py",
   "mimetype": "text/x-python",
   "name": "python",
   "nbconvert_exporter": "python",
   "pygments_lexer": "ipython3",
   "version": "3.11.7"
  }
 },
 "nbformat": 4,
 "nbformat_minor": 5
}
