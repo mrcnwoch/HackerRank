{
 "cells": [
  {
   "cell_type": "code",
   "execution_count": 35,
   "id": "5577901a",
   "metadata": {},
   "outputs": [],
   "source": [
    "def pickingNumbers(a):\n",
    "    a.sort()\n",
    "    res_lst = []\n",
    "    for i in range(len(a)):\n",
    "        ln = 0\n",
    "        for j in range(len(a)):\n",
    "            if a[i] - a[j] == 1 or a[i] - a[j] == 0:\n",
    "                ln += 1\n",
    "        res_lst.append(ln)\n",
    "        \n",
    "    return max(res_lst)"
   ]
  },
  {
   "cell_type": "code",
   "execution_count": 38,
   "id": "61878aaa",
   "metadata": {},
   "outputs": [
    {
     "data": {
      "text/plain": [
       "5"
      ]
     },
     "execution_count": 38,
     "metadata": {},
     "output_type": "execute_result"
    }
   ],
   "source": [
    "a = [1, 1, 2, 2, 4, 4, 5, 5, 5]\n",
    "#a = [4, 6, 5, 3, 3, 1]\n",
    "#a = [4, 2, 3, 4, 4, 9, 98, 98, 3, 3, 3, 4, 2, 98, 1, 98, 98, 1, 1,\\\n",
    "#     4, 98, 2, 98, 3, 9, 9, 3, 1, 4, 1, 98, 9, 9, 2, 9, 4, 2, 2, 9,\\\n",
    "#     98, 4, 98, 1, 3, 4, 9, 1, 98, 98, 4, 2, 3, 98, 98, 1, 99, 9, 98,\\\n",
    "#     98, 3, 98, 98, 4, 98, 2, 98, 4, 2, 1, 1, 9, 2, 4]\n",
    "pickingNumbers(a)"
   ]
  },
  {
   "cell_type": "code",
   "execution_count": null,
   "id": "bfb51a38",
   "metadata": {},
   "outputs": [],
   "source": []
  }
 ],
 "metadata": {
  "kernelspec": {
   "display_name": "Python 3 (ipykernel)",
   "language": "python",
   "name": "python3"
  },
  "language_info": {
   "codemirror_mode": {
    "name": "ipython",
    "version": 3
   },
   "file_extension": ".py",
   "mimetype": "text/x-python",
   "name": "python",
   "nbconvert_exporter": "python",
   "pygments_lexer": "ipython3",
   "version": "3.9.7"
  }
 },
 "nbformat": 4,
 "nbformat_minor": 5
}
