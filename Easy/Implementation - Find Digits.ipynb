{
 "cells": [
  {
   "cell_type": "code",
   "execution_count": 5,
   "id": "39da9f1f",
   "metadata": {},
   "outputs": [],
   "source": [
    "def findDigits(n):\n",
    "    digits = [int(x) for x in str(n)]\n",
    "    \n",
    "    cnt = 0\n",
    "    for digit in digits:\n",
    "        if digit != 0:\n",
    "            if n % digit == 0:\n",
    "                cnt += 1\n",
    "                \n",
    "    return cnt"
   ]
  },
  {
   "cell_type": "code",
   "execution_count": 8,
   "id": "dd7384dd",
   "metadata": {},
   "outputs": [
    {
     "data": {
      "text/plain": [
       "3"
      ]
     },
     "execution_count": 8,
     "metadata": {},
     "output_type": "execute_result"
    }
   ],
   "source": [
    "n = 12\n",
    "n = 1012\n",
    "n = 111\n",
    "findDigits(n)"
   ]
  },
  {
   "cell_type": "code",
   "execution_count": null,
   "id": "1e1db7d0",
   "metadata": {},
   "outputs": [],
   "source": []
  }
 ],
 "metadata": {
  "kernelspec": {
   "display_name": "Python 3 (ipykernel)",
   "language": "python",
   "name": "python3"
  },
  "language_info": {
   "codemirror_mode": {
    "name": "ipython",
    "version": 3
   },
   "file_extension": ".py",
   "mimetype": "text/x-python",
   "name": "python",
   "nbconvert_exporter": "python",
   "pygments_lexer": "ipython3",
   "version": "3.9.7"
  }
 },
 "nbformat": 4,
 "nbformat_minor": 5
}
