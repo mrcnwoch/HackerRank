{
 "cells": [
  {
   "cell_type": "code",
   "execution_count": 49,
   "id": "5294ec24-75bf-4015-adf3-608c307cfc52",
   "metadata": {},
   "outputs": [],
   "source": [
    "def kaprekarNumbers(p, q):\n",
    "    kaprekar = []\n",
    "    for i in range(p, q+1):\n",
    "        len_no = len(str(i))\n",
    "        sq = str(i**2)\n",
    "        left = sq[0:len(sq)-len_no]\n",
    "        if left == '':\n",
    "            left = '0'\n",
    "        right = sq[len(sq)-len_no:]\n",
    "        if right == '':\n",
    "            right = '0'\n",
    "        left = int(left)\n",
    "        right = int(right)\n",
    "\n",
    "        if left + right == i:\n",
    "            kaprekar.append(str(i))\n",
    "\n",
    "    if not kaprekar:\n",
    "        print('INVALID RANGE')\n",
    "    else:\n",
    "        print(' '.join(kaprekar))"
   ]
  },
  {
   "cell_type": "code",
   "execution_count": 51,
   "id": "f28f3837-7c9f-42dd-860a-a717f4a8ce80",
   "metadata": {},
   "outputs": [
    {
     "name": "stdout",
     "output_type": "stream",
     "text": [
      "INVALID RANGE\n"
     ]
    }
   ],
   "source": [
    "p = 1; q = 100\n",
    "p=400; q=700\n",
    "kaprekarNumbers(p, q)"
   ]
  },
  {
   "cell_type": "code",
   "execution_count": null,
   "id": "ac83732c-97c7-410d-87e7-44a8f93701cd",
   "metadata": {},
   "outputs": [],
   "source": []
  }
 ],
 "metadata": {
  "kernelspec": {
   "display_name": "Python 3 (ipykernel)",
   "language": "python",
   "name": "python3"
  },
  "language_info": {
   "codemirror_mode": {
    "name": "ipython",
    "version": 3
   },
   "file_extension": ".py",
   "mimetype": "text/x-python",
   "name": "python",
   "nbconvert_exporter": "python",
   "pygments_lexer": "ipython3",
   "version": "3.11.7"
  }
 },
 "nbformat": 4,
 "nbformat_minor": 5
}
