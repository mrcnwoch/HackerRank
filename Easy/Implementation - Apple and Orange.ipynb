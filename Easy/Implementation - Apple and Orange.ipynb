{
 "cells": [
  {
   "cell_type": "code",
   "execution_count": 18,
   "metadata": {},
   "outputs": [],
   "source": [
    "def countApplesAndOranges(s, t, a, b, apples, oranges):\n",
    "    fallen_apples = [x + a for x in apples]\n",
    "    fallen_oranges = [x + b for x in oranges]\n",
    "\n",
    "    no_apples = 0\n",
    "    for fa in fallen_apples:\n",
    "        if fa >=s and fa <= t:\n",
    "            no_apples += 1\n",
    "            \n",
    "    no_oranges = 0\n",
    "    for fo in fallen_oranges:\n",
    "        if fo >=s and fo <= t:\n",
    "            no_oranges += 1\n",
    "            \n",
    "    print(no_apples)\n",
    "    print(no_oranges)"
   ]
  },
  {
   "cell_type": "code",
   "execution_count": 19,
   "metadata": {},
   "outputs": [
    {
     "name": "stdout",
     "output_type": "stream",
     "text": [
      "1\n",
      "1\n"
     ]
    }
   ],
   "source": [
    "countApplesAndOranges(7, 11, 5, 15, [-2, 2, 1], [5, -6])"
   ]
  },
  {
   "cell_type": "code",
   "execution_count": null,
   "metadata": {},
   "outputs": [],
   "source": []
  }
 ],
 "metadata": {
  "kernelspec": {
   "display_name": "Python 3",
   "language": "python",
   "name": "python3"
  },
  "language_info": {
   "codemirror_mode": {
    "name": "ipython",
    "version": 3
   },
   "file_extension": ".py",
   "mimetype": "text/x-python",
   "name": "python",
   "nbconvert_exporter": "python",
   "pygments_lexer": "ipython3",
   "version": "3.7.4"
  }
 },
 "nbformat": 4,
 "nbformat_minor": 2
}
