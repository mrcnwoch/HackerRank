{
 "cells": [
  {
   "cell_type": "code",
   "execution_count": 33,
   "id": "4c647f07",
   "metadata": {},
   "outputs": [],
   "source": [
    "def birthday(s, d, m):\n",
    "    no_ways = 0\n",
    "    for i in range(len(s) - m + 1):\n",
    "        if sum(s[i:i+m]) == d:\n",
    "            no_ways += 1\n",
    "\n",
    "    return no_ways"
   ]
  },
  {
   "cell_type": "code",
   "execution_count": 34,
   "id": "4aeaa857",
   "metadata": {},
   "outputs": [
    {
     "data": {
      "text/plain": [
       "2"
      ]
     },
     "execution_count": 34,
     "metadata": {},
     "output_type": "execute_result"
    }
   ],
   "source": [
    "s = [1, 2, 1, 3, 2]\n",
    "d = 3\n",
    "m = 2\n",
    "birthday(s, d, m)"
   ]
  },
  {
   "cell_type": "code",
   "execution_count": null,
   "id": "f7efb46a",
   "metadata": {},
   "outputs": [],
   "source": []
  }
 ],
 "metadata": {
  "kernelspec": {
   "display_name": "Python 3 (ipykernel)",
   "language": "python",
   "name": "python3"
  },
  "language_info": {
   "codemirror_mode": {
    "name": "ipython",
    "version": 3
   },
   "file_extension": ".py",
   "mimetype": "text/x-python",
   "name": "python",
   "nbconvert_exporter": "python",
   "pygments_lexer": "ipython3",
   "version": "3.9.7"
  }
 },
 "nbformat": 4,
 "nbformat_minor": 5
}
