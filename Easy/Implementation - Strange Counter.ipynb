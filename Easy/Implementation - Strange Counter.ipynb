{
 "cells": [
  {
   "cell_type": "code",
   "execution_count": 19,
   "id": "eb57c71c-0c07-4869-909b-63f8d4157396",
   "metadata": {},
   "outputs": [],
   "source": [
    "def strangeCounter(t): # Brute Force method\n",
    "    init_value = 3\n",
    "    curr_value = 0\n",
    "\n",
    "    for i in range(1, t + 1):\n",
    "        if i == 1:\n",
    "            curr_value = init_value\n",
    "        else:\n",
    "            curr_value -= 1\n",
    "\n",
    "        if curr_value == 0:\n",
    "            init_value *= 2\n",
    "            curr_value = init_value\n",
    "\n",
    "    return curr_value"
   ]
  },
  {
   "cell_type": "code",
   "execution_count": 39,
   "id": "fc520b17-d4fb-4b1d-961f-e6cbe06c59b7",
   "metadata": {},
   "outputs": [],
   "source": [
    "def strangeCounter(t): # Fast\n",
    "    curr = 3\n",
    "    while t > curr:\n",
    "        t = t - curr\n",
    "        curr *= 2\n",
    "\n",
    "    return curr - t + 1"
   ]
  },
  {
   "cell_type": "code",
   "execution_count": 40,
   "id": "89b19755-a864-4bbb-835e-dc28b7e5c5b0",
   "metadata": {},
   "outputs": [
    {
     "data": {
      "text/plain": [
       "2"
      ]
     },
     "execution_count": 40,
     "metadata": {},
     "output_type": "execute_result"
    }
   ],
   "source": [
    "t = 20\n",
    "strangeCounter(t)"
   ]
  },
  {
   "cell_type": "code",
   "execution_count": null,
   "id": "31911101-624c-40a6-8d94-19282e6f5a0e",
   "metadata": {},
   "outputs": [],
   "source": []
  }
 ],
 "metadata": {
  "kernelspec": {
   "display_name": "Python 3 (ipykernel)",
   "language": "python",
   "name": "python3"
  },
  "language_info": {
   "codemirror_mode": {
    "name": "ipython",
    "version": 3
   },
   "file_extension": ".py",
   "mimetype": "text/x-python",
   "name": "python",
   "nbconvert_exporter": "python",
   "pygments_lexer": "ipython3",
   "version": "3.13.2"
  }
 },
 "nbformat": 4,
 "nbformat_minor": 5
}
