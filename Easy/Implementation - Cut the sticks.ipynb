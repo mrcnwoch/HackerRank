{
 "cells": [
  {
   "cell_type": "code",
   "execution_count": 31,
   "id": "9a031cb8",
   "metadata": {},
   "outputs": [],
   "source": [
    "def cutTheSticks(arr):\n",
    "    cuts = []\n",
    "    \n",
    "    while arr:\n",
    "        shortest = min(arr)\n",
    "        cuts.append(len(arr))\n",
    "        arr = [x - shortest for x in arr]\n",
    "        \n",
    "        arr = list(filter(lambda a: a != 0, arr))\n",
    "        \n",
    "    return cuts"
   ]
  },
  {
   "cell_type": "code",
   "execution_count": 32,
   "id": "96861cbb",
   "metadata": {},
   "outputs": [
    {
     "data": {
      "text/plain": [
       "[6, 4, 2, 1]"
      ]
     },
     "execution_count": 32,
     "metadata": {},
     "output_type": "execute_result"
    }
   ],
   "source": [
    "arr = [1, 2, 3]\n",
    "#arr = [1, 2, 3, 4, 3, 3, 2, 1]\n",
    "#arr = [5, 4, 4, 2, 2, 8]\n",
    "\n",
    "cutTheSticks(arr)"
   ]
  },
  {
   "cell_type": "code",
   "execution_count": null,
   "id": "c8eee59d",
   "metadata": {},
   "outputs": [],
   "source": []
  }
 ],
 "metadata": {
  "kernelspec": {
   "display_name": "Python 3 (ipykernel)",
   "language": "python",
   "name": "python3"
  },
  "language_info": {
   "codemirror_mode": {
    "name": "ipython",
    "version": 3
   },
   "file_extension": ".py",
   "mimetype": "text/x-python",
   "name": "python",
   "nbconvert_exporter": "python",
   "pygments_lexer": "ipython3",
   "version": "3.9.7"
  }
 },
 "nbformat": 4,
 "nbformat_minor": 5
}
