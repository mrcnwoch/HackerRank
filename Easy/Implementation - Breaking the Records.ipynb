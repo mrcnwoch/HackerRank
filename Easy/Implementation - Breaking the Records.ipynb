{
 "cells": [
  {
   "cell_type": "code",
   "execution_count": 22,
   "id": "84abc3b2",
   "metadata": {},
   "outputs": [],
   "source": [
    "def breakingRecords(scores):\n",
    "    low = 0\n",
    "    high = 0\n",
    "    \n",
    "    min_score = scores[0]\n",
    "    max_score = scores[0]\n",
    "    \n",
    "    for score in scores:\n",
    "        if max_score < score:\n",
    "            high += 1\n",
    "            max_score = score\n",
    "        if min_score > score:\n",
    "            low += 1\n",
    "            min_score = score\n",
    "    \n",
    "    return [high, low]"
   ]
  },
  {
   "cell_type": "code",
   "execution_count": 23,
   "id": "c9307958",
   "metadata": {},
   "outputs": [
    {
     "data": {
      "text/plain": [
       "[4, 0]"
      ]
     },
     "execution_count": 23,
     "metadata": {},
     "output_type": "execute_result"
    }
   ],
   "source": [
    "scores = [10, 5, 20, 20, 4, 5, 2, 25, 1]\n",
    "scores = [3, 4, 21, 36, 10, 28, 35, 5, 24, 42]\n",
    "breakingRecords(scores)"
   ]
  },
  {
   "cell_type": "code",
   "execution_count": null,
   "id": "2a09e91e",
   "metadata": {},
   "outputs": [],
   "source": []
  }
 ],
 "metadata": {
  "kernelspec": {
   "display_name": "Python 3 (ipykernel)",
   "language": "python",
   "name": "python3"
  },
  "language_info": {
   "codemirror_mode": {
    "name": "ipython",
    "version": 3
   },
   "file_extension": ".py",
   "mimetype": "text/x-python",
   "name": "python",
   "nbconvert_exporter": "python",
   "pygments_lexer": "ipython3",
   "version": "3.9.7"
  }
 },
 "nbformat": 4,
 "nbformat_minor": 5
}
