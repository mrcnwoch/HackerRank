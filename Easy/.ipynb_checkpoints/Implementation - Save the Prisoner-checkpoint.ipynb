{
 "cells": [
  {
   "cell_type": "code",
   "execution_count": 83,
   "id": "1508394c",
   "metadata": {},
   "outputs": [],
   "source": [
    "def saveThePrisoner(n, m, s):    \n",
    "    m = m % n\n",
    "    s = s + m - 1\n",
    "    if s == 0:\n",
    "        s = n\n",
    "        \n",
    "    while s > n: \n",
    "        s -= n\n",
    "    \n",
    "    return s"
   ]
  },
  {
   "cell_type": "code",
   "execution_count": 84,
   "id": "1736f683",
   "metadata": {},
   "outputs": [
    {
     "name": "stdout",
     "output_type": "stream",
     "text": [
      "499999999\n",
      "1\n",
      "999999999\n"
     ]
    }
   ],
   "source": [
    "#print(saveThePrisoner(4, 6, 2))\n",
    "#print(saveThePrisoner(5, 2, 1))\n",
    "#print(saveThePrisoner(5, 2, 2))\n",
    "#print(saveThePrisoner(7, 19, 2))\n",
    "#print(saveThePrisoner(3, 7, 3))\n",
    "#print(saveThePrisoner(352926151, 380324688, 94730870))   #122129406\n",
    "#print(saveThePrisoner(94431605, 679262176, 5284458))     #23525398\n",
    "#print(saveThePrisoner(208526924, 756265725, 150817879))  #72975907\n",
    "#print(saveThePrisoner(946486979, 973168361, 647886035))  #674567416\n",
    "#print(saveThePrisoner(368127406, 680428368, 105517295))  #49690850\n",
    "print(saveThePrisoner(499999999, 999999997, 2))          #49999999\n",
    "print(saveThePrisoner(499999999, 999999998, 2))          #1\n",
    "print(saveThePrisoner(999999999, 999999999, 1))          #99999999"
   ]
  },
  {
   "cell_type": "code",
   "execution_count": null,
   "id": "07afa891",
   "metadata": {},
   "outputs": [],
   "source": []
  }
 ],
 "metadata": {
  "kernelspec": {
   "display_name": "Python 3 (ipykernel)",
   "language": "python",
   "name": "python3"
  },
  "language_info": {
   "codemirror_mode": {
    "name": "ipython",
    "version": 3
   },
   "file_extension": ".py",
   "mimetype": "text/x-python",
   "name": "python",
   "nbconvert_exporter": "python",
   "pygments_lexer": "ipython3",
   "version": "3.9.7"
  }
 },
 "nbformat": 4,
 "nbformat_minor": 5
}
