{
 "cells": [
  {
   "cell_type": "code",
   "execution_count": 7,
   "id": "833c1aff",
   "metadata": {},
   "outputs": [],
   "source": [
    "import os"
   ]
  },
  {
   "cell_type": "code",
   "execution_count": 12,
   "id": "a25e87f7",
   "metadata": {},
   "outputs": [],
   "source": [
    "class DoublyLinkedListNode:\n",
    "    def __init__(self, node_data):\n",
    "        self.data = node_data\n",
    "        self.next = None\n",
    "        self.prev = None\n",
    "\n",
    "class DoublyLinkedList:\n",
    "    def __init__(self):\n",
    "        self.head = None\n",
    "        self.tail = None\n",
    "\n",
    "    def insert_node(self, node_data):\n",
    "        node = DoublyLinkedListNode(node_data)\n",
    "\n",
    "        if not self.head:\n",
    "            self.head = node\n",
    "        else:\n",
    "            self.tail.next = node\n",
    "            node.prev = self.tail\n",
    "\n",
    "\n",
    "        self.tail = node\n",
    "\n",
    "def print_doubly_linked_list(node, sep):\n",
    "    while node:\n",
    "        print(str(node.data))\n",
    "\n",
    "        node = node.next\n",
    "\n",
    "        if node:\n",
    "            print(sep)"
   ]
  },
  {
   "cell_type": "code",
   "execution_count": 15,
   "id": "311e25d3",
   "metadata": {},
   "outputs": [],
   "source": [
    "def sortedInsert(llist, data):\n",
    "    cur = llist\n",
    "    node = DoublyLinkedListNode(data)\n",
    "    \n",
    "    if cur.data >= data:\n",
    "        node.next = cur\n",
    "        cur.prev = node\n",
    "        head = node\n",
    "        \n",
    "        return head\n",
    "    \n",
    "    while cur.next:\n",
    "        if (cur.data < data and cur.next.data > data) or cur.data == data:\n",
    "            node.next = cur.next\n",
    "            cur.next.prev = node\n",
    "            node.prev = cur\n",
    "            cur.next = node\n",
    "            return llist\n",
    "        \n",
    "        cur=cur.next\n",
    "    \n",
    "    if cur.data < data or cur.data == data:\n",
    "        node.prev = cur\n",
    "        cur.next = node\n",
    "        return llist"
   ]
  },
  {
   "cell_type": "code",
   "execution_count": 16,
   "id": "a48a41b5",
   "metadata": {},
   "outputs": [
    {
     "name": "stdout",
     "output_type": "stream",
     "text": [
      "1\n",
      "4\n",
      "1\n",
      "3\n",
      "4\n",
      "10\n",
      "5\n",
      "1\n",
      " \n",
      "3\n",
      " \n",
      "4\n",
      " \n",
      "10\n",
      "\n",
      "\n"
     ]
    }
   ],
   "source": [
    "t = int(input())\n",
    "\n",
    "for t_itr in range(t):\n",
    "    llist_count = int(input())\n",
    "\n",
    "    llist = DoublyLinkedList()\n",
    "\n",
    "    for _ in range(llist_count):\n",
    "        llist_item = int(input())\n",
    "        llist.insert_node(llist_item)\n",
    "\n",
    "    data = int(input())\n",
    "\n",
    "    llist1 = sortedInsert(llist.head, data)\n",
    "\n",
    "    print_doubly_linked_list(llist1, ' ')\n",
    "    print('\\n')"
   ]
  },
  {
   "cell_type": "code",
   "execution_count": null,
   "id": "703d1cc8",
   "metadata": {},
   "outputs": [],
   "source": []
  }
 ],
 "metadata": {
  "kernelspec": {
   "display_name": "Python 3 (ipykernel)",
   "language": "python",
   "name": "python3"
  },
  "language_info": {
   "codemirror_mode": {
    "name": "ipython",
    "version": 3
   },
   "file_extension": ".py",
   "mimetype": "text/x-python",
   "name": "python",
   "nbconvert_exporter": "python",
   "pygments_lexer": "ipython3",
   "version": "3.9.7"
  }
 },
 "nbformat": 4,
 "nbformat_minor": 5
}
