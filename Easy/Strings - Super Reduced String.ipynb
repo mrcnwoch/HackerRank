{
 "cells": [
  {
   "cell_type": "code",
   "execution_count": 44,
   "id": "b99fda43",
   "metadata": {},
   "outputs": [],
   "source": [
    "def superReducedString(s):\n",
    "    stack = []\n",
    "    for c in s:\n",
    "        if stack and c == stack[-1]:\n",
    "            stack.pop()\n",
    "        else:\n",
    "            stack.append(c)\n",
    "\n",
    "    if len(stack) == 0:\n",
    "        return 'Empty String'\n",
    "\n",
    "    return ''.join(stack)"
   ]
  },
  {
   "cell_type": "code",
   "execution_count": 49,
   "id": "0d916e03",
   "metadata": {},
   "outputs": [
    {
     "data": {
      "text/plain": [
       "'Empty string'"
      ]
     },
     "execution_count": 49,
     "metadata": {},
     "output_type": "execute_result"
    }
   ],
   "source": [
    "s = 'abba'\n",
    "s = 'aaabccddd'\n",
    "s = 'aa'\n",
    "superReducedString(s)"
   ]
  },
  {
   "cell_type": "code",
   "execution_count": null,
   "id": "867e64ad",
   "metadata": {},
   "outputs": [],
   "source": []
  }
 ],
 "metadata": {
  "kernelspec": {
   "display_name": "Python 3 (ipykernel)",
   "language": "python",
   "name": "python3"
  },
  "language_info": {
   "codemirror_mode": {
    "name": "ipython",
    "version": 3
   },
   "file_extension": ".py",
   "mimetype": "text/x-python",
   "name": "python",
   "nbconvert_exporter": "python",
   "pygments_lexer": "ipython3",
   "version": "3.9.7"
  }
 },
 "nbformat": 4,
 "nbformat_minor": 5
}
