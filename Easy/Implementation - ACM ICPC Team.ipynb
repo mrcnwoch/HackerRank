{
 "cells": [
  {
   "cell_type": "code",
   "execution_count": 87,
   "id": "a99ed588",
   "metadata": {},
   "outputs": [],
   "source": [
    "def acmTeam(topic):\n",
    "    max_topics = 0\n",
    "    topic_teams = {}\n",
    "    \n",
    "    for i in range(len(topic)):\n",
    "        for j in range(i + 1, len(topic)):\n",
    "            t1 = int(topic[i], 2)\n",
    "            t2 = int(topic[j], 2)\n",
    "            sm = str(bin(t1|t2)).replace('0b', '').replace('0', '')\n",
    "            \n",
    "            topic_teams.update({(i, j): len(sm)})\n",
    "    \n",
    "    max_value = max(topic_teams.values())\n",
    "    keys = [k for k,v in topic_teams.items() if v == max_value]\n",
    "    \n",
    "    #print(topic_teams, max_value, len(keys))\n",
    "    \n",
    "    return max_value, len(keys)"
   ]
  },
  {
   "cell_type": "code",
   "execution_count": 89,
   "id": "8f333fa1",
   "metadata": {},
   "outputs": [
    {
     "data": {
      "text/plain": [
       "(5, 2)"
      ]
     },
     "execution_count": 89,
     "metadata": {},
     "output_type": "execute_result"
    }
   ],
   "source": [
    "topic = ['10101', '11110', '00010']\n",
    "topic = ['10101', '11100', '11010', '00101']\n",
    "acmTeam(topic)"
   ]
  },
  {
   "cell_type": "code",
   "execution_count": null,
   "id": "7f845e60",
   "metadata": {},
   "outputs": [],
   "source": []
  }
 ],
 "metadata": {
  "kernelspec": {
   "display_name": "Python 3 (ipykernel)",
   "language": "python",
   "name": "python3"
  },
  "language_info": {
   "codemirror_mode": {
    "name": "ipython",
    "version": 3
   },
   "file_extension": ".py",
   "mimetype": "text/x-python",
   "name": "python",
   "nbconvert_exporter": "python",
   "pygments_lexer": "ipython3",
   "version": "3.9.7"
  }
 },
 "nbformat": 4,
 "nbformat_minor": 5
}
