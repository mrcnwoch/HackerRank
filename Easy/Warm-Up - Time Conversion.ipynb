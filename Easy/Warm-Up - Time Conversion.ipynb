{
 "cells": [
  {
   "cell_type": "code",
   "execution_count": 58,
   "metadata": {},
   "outputs": [],
   "source": [
    "def timeConversion(s):\n",
    "    hours = int(s[0:2])\n",
    "    mins = s[3:5]\n",
    "    secs = s[6:8]\n",
    "    ampm = s[8:]\n",
    "    \n",
    "    if ampm == 'PM' and hours != 12:\n",
    "        hours += 12\n",
    "    \n",
    "    if hours == 12 and ampm =='AM':\n",
    "        hours = 0\n",
    "    \n",
    "    s_24 = str(hours).rjust(2, '0') + ':' + mins + ':' + secs\n",
    "        \n",
    "    return(s_24)"
   ]
  },
  {
   "cell_type": "code",
   "execution_count": 60,
   "metadata": {},
   "outputs": [
    {
     "data": {
      "text/plain": [
       "'12:00:01'"
      ]
     },
     "execution_count": 60,
     "metadata": {},
     "output_type": "execute_result"
    }
   ],
   "source": [
    "timeConversion('12:00:01PM')"
   ]
  },
  {
   "cell_type": "code",
   "execution_count": null,
   "metadata": {},
   "outputs": [],
   "source": []
  }
 ],
 "metadata": {
  "kernelspec": {
   "display_name": "Python 3",
   "language": "python",
   "name": "python3"
  },
  "language_info": {
   "codemirror_mode": {
    "name": "ipython",
    "version": 3
   },
   "file_extension": ".py",
   "mimetype": "text/x-python",
   "name": "python",
   "nbconvert_exporter": "python",
   "pygments_lexer": "ipython3",
   "version": "3.7.4"
  }
 },
 "nbformat": 4,
 "nbformat_minor": 2
}
