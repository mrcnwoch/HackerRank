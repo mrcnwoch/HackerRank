{
 "cells": [
  {
   "cell_type": "code",
   "execution_count": 42,
   "id": "ec68853b-d0f8-40f3-b07a-ca55892e390e",
   "metadata": {},
   "outputs": [],
   "source": [
    "def flatlandSpaceStations(n, c): #Brute force\n",
    "    if n < 2:\n",
    "        return 0\n",
    "    \n",
    "    distances = []\n",
    "    c.sort()\n",
    "    for city in range(n):\n",
    "        dists = min([abs(x - city) for x in c])\n",
    "\n",
    "        distances.append(dists)\n",
    "\n",
    "    return max(distances)"
   ]
  },
  {
   "cell_type": "code",
   "execution_count": 53,
   "id": "74e986a5-baab-461a-8dfc-ee084443cbf1",
   "metadata": {},
   "outputs": [],
   "source": [
    "def flatlandSpaceStations(n, c): #O(n) - check only preceding and succeding sity\n",
    "    if n < 2:\n",
    "        return 0\n",
    "\n",
    "    c.sort()\n",
    "    return max([((c[i+1] - c[i])//2) for i in range(len(c)-1)] + [c[0], n-1-c[-1]])"
   ]
  },
  {
   "cell_type": "code",
   "execution_count": 54,
   "id": "b037e45d-3168-4ecf-9d06-bb5a7e1b7a4b",
   "metadata": {},
   "outputs": [
    {
     "data": {
      "text/plain": [
       "2"
      ]
     },
     "execution_count": 54,
     "metadata": {},
     "output_type": "execute_result"
    }
   ],
   "source": [
    "n=3; c=[1]\n",
    "n=5; c=[0, 4]\n",
    "flatlandSpaceStations(n, c)"
   ]
  },
  {
   "cell_type": "code",
   "execution_count": null,
   "id": "647e50e5-afc5-4ecb-ab07-cf18734c3eab",
   "metadata": {},
   "outputs": [],
   "source": []
  }
 ],
 "metadata": {
  "kernelspec": {
   "display_name": "Python 3 (ipykernel)",
   "language": "python",
   "name": "python3"
  },
  "language_info": {
   "codemirror_mode": {
    "name": "ipython",
    "version": 3
   },
   "file_extension": ".py",
   "mimetype": "text/x-python",
   "name": "python",
   "nbconvert_exporter": "python",
   "pygments_lexer": "ipython3",
   "version": "3.11.7"
  }
 },
 "nbformat": 4,
 "nbformat_minor": 5
}
