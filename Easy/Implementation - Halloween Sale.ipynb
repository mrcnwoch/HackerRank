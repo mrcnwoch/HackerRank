{
 "cells": [
  {
   "cell_type": "code",
   "execution_count": 55,
   "id": "05c215de-df1e-4323-b929-238c6fe312d9",
   "metadata": {},
   "outputs": [],
   "source": [
    "def howManyGames(p, d, m, s):\n",
    "    curr_price = no_games = last_price = 0\n",
    "    while curr_price <= s:\n",
    "        if no_games == 0:\n",
    "            last_price = p\n",
    "        elif last_price - d > m:\n",
    "            last_price = last_price - d\n",
    "        else:\n",
    "            last_price = m\n",
    "        curr_price += last_price\n",
    "        no_games += 1\n",
    "    return no_games - 1"
   ]
  },
  {
   "cell_type": "code",
   "execution_count": 56,
   "id": "99c3badf-8845-4a43-adb4-8c0b7fc24904",
   "metadata": {},
   "outputs": [
    {
     "data": {
      "text/plain": [
       "6"
      ]
     },
     "execution_count": 56,
     "metadata": {},
     "output_type": "execute_result"
    }
   ],
   "source": [
    "p = 20; d = 3; m = 6; s = 70 #5\n",
    "p = 20; d = 3; m = 6; s = 80 #6\n",
    "#p = 20; d = 3; m = 6; s = 85\n",
    "#p = 16; d = 2; m = 1; s = 9981\n",
    "#p = 1; d = 100; m = 1; s = 9777\n",
    "howManyGames(p, d, m, s)"
   ]
  },
  {
   "cell_type": "code",
   "execution_count": null,
   "id": "e12e9118-8e58-4285-9517-2658582598a9",
   "metadata": {},
   "outputs": [],
   "source": []
  }
 ],
 "metadata": {
  "kernelspec": {
   "display_name": "Python 3 (ipykernel)",
   "language": "python",
   "name": "python3"
  },
  "language_info": {
   "codemirror_mode": {
    "name": "ipython",
    "version": 3
   },
   "file_extension": ".py",
   "mimetype": "text/x-python",
   "name": "python",
   "nbconvert_exporter": "python",
   "pygments_lexer": "ipython3",
   "version": "3.11.7"
  }
 },
 "nbformat": 4,
 "nbformat_minor": 5
}
