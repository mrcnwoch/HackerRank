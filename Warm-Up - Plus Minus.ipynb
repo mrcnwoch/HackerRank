{
 "cells": [
  {
   "cell_type": "code",
   "execution_count": 36,
   "metadata": {},
   "outputs": [],
   "source": [
    "def plusMinus(arr):\n",
    "    ln = len(arr)\n",
    "    pos = 0\n",
    "    neg = 0\n",
    "    for el in arr:\n",
    "        if el > 0:\n",
    "            pos += 1\n",
    "        elif el < 0:\n",
    "            neg += 1\n",
    "        \n",
    "    print(\"{:.6f}\".format(round(pos / ln, 6)))\n",
    "    print(\"{:.6f}\".format(round(neg / ln, 6)))\n",
    "    print(\"{:.6f}\".format(round((ln - pos - neg) / ln, 6)))"
   ]
  },
  {
   "cell_type": "code",
   "execution_count": 37,
   "metadata": {},
   "outputs": [
    {
     "name": "stdout",
     "output_type": "stream",
     "text": [
      "0.500000\n",
      "0.333333\n",
      "0.166667\n"
     ]
    }
   ],
   "source": [
    "plusMinus([-4, 3, -9, 0, 4, 1])"
   ]
  },
  {
   "cell_type": "code",
   "execution_count": null,
   "metadata": {},
   "outputs": [],
   "source": []
  }
 ],
 "metadata": {
  "kernelspec": {
   "display_name": "Python 3",
   "language": "python",
   "name": "python3"
  },
  "language_info": {
   "codemirror_mode": {
    "name": "ipython",
    "version": 3
   },
   "file_extension": ".py",
   "mimetype": "text/x-python",
   "name": "python",
   "nbconvert_exporter": "python",
   "pygments_lexer": "ipython3",
   "version": "3.7.4"
  }
 },
 "nbformat": 4,
 "nbformat_minor": 2
}
