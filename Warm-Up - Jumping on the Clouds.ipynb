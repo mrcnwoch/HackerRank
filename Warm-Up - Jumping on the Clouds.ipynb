{
 "cells": [
  {
   "cell_type": "markdown",
   "metadata": {},
   "source": [
    "Emma is playing a new mobile game that starts with consecutively numbered clouds. Some of the clouds are thunderheads and others are cumulus. She can jump on any cumulus cloud having a number that is equal to the number of the current cloud plus 1 or 2. She must avoid the thunderheads. Determine the minimum number of jumps it will take Emma to jump from her starting postion to the last cloud. It is always possible to win the game.\n",
    "\n",
    "For each game, Emma will get an array of clouds numbered 0 if they are safe or 1 if they must be avoided. For example c=[0, 1, 0, 0, 0, 1, 0] indexed from 0..6. The number on each cloud is its index in the list so she must avoid the clouds at indexes 1 and 5. She could follow the following two paths: 0, 2, 4, 6 or 0, 2, 3, 4, 6. The first path takes 3 jumps while the second takes 4.\n",
    "\n",
    "Function Description\n",
    "\n",
    "Complete the jumpingOnClouds function in the editor below. It should return the minimum number of jumps required, as an integer.\n",
    "\n",
    "jumpingOnClouds has the following parameter(s):\n",
    "\n",
    "    c: an array of binary integers\n",
    "\n",
    "Input Format\n",
    "\n",
    "The first line contains an integer n, the total number of clouds. The second line contains space-separated binary integers describing clouds c[i] where 0 <= i < n.\n",
    "\n",
    "Output Format\n",
    "\n",
    "Print the minimum number of jumps needed to win the game.\n",
    "\n",
    "Sample Input 0\n",
    "\n",
    "7\n",
    "\n",
    "0 0 1 0 0 1 0\n",
    "\n",
    "Sample Output 0\n",
    "\n",
    "4\n",
    "\n",
    "Explanation 0:\n",
    "Emma must avoid c[2] and c[5]. She can win the game with a minimum of 4 jumps.\n",
    "\n",
    "Sample Input 1\n",
    "\n",
    "6\n",
    "\n",
    "0 0 0 0 1 0\n",
    "\n",
    "Sample Output 1\n",
    "\n",
    "3"
   ]
  },
  {
   "cell_type": "code",
   "execution_count": 23,
   "metadata": {},
   "outputs": [],
   "source": [
    "def jumpingOnClouds(c):\n",
    "    current = 0\n",
    "    cnt = 0\n",
    "    \n",
    "    i = current\n",
    "    while i < len(c) - 1:\n",
    "        if len(c) > i + 2 and c[i + 2] == 0:\n",
    "            current = i + 2\n",
    "            i += 2\n",
    "        else:\n",
    "            current = i + 1\n",
    "            i += 1\n",
    "        cnt += 1\n",
    "            \n",
    "    return cnt"
   ]
  },
  {
   "cell_type": "code",
   "execution_count": 26,
   "metadata": {},
   "outputs": [
    {
     "data": {
      "text/plain": [
       "3"
      ]
     },
     "execution_count": 26,
     "metadata": {},
     "output_type": "execute_result"
    }
   ],
   "source": [
    "#jumpingOnClouds([0, 0, 0, 1, 0, 0])\n",
    "#jumpingOnClouds([0, 0, 1, 0, 0, 1, 0])\n",
    "jumpingOnClouds([0, 0, 0, 0, 1, 0])"
   ]
  },
  {
   "cell_type": "code",
   "execution_count": null,
   "metadata": {},
   "outputs": [],
   "source": []
  }
 ],
 "metadata": {
  "kernelspec": {
   "display_name": "Python 3",
   "language": "python",
   "name": "python3"
  },
  "language_info": {
   "codemirror_mode": {
    "name": "ipython",
    "version": 3
   },
   "file_extension": ".py",
   "mimetype": "text/x-python",
   "name": "python",
   "nbconvert_exporter": "python",
   "pygments_lexer": "ipython3",
   "version": "3.6.4"
  }
 },
 "nbformat": 4,
 "nbformat_minor": 2
}
