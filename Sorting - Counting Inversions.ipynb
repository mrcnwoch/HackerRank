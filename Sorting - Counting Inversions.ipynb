{
 "cells": [
  {
   "cell_type": "code",
   "execution_count": 1,
   "metadata": {},
   "outputs": [],
   "source": [
    "def countInversionsBrute(arr): #O(n^2)\n",
    "    cnt = 0\n",
    "    \n",
    "    for i in range(len(arr)):\n",
    "        for j in range(i + 1, len(arr)):\n",
    "            if arr[i] > arr[j]:\n",
    "                cnt += 1\n",
    "    \n",
    "    return cnt"
   ]
  },
  {
   "cell_type": "code",
   "execution_count": 8,
   "metadata": {},
   "outputs": [],
   "source": [
    "def countInversions(arr): #O(nlogn)\n",
    "    cnt = 0\n",
    "\n",
    "    def mergeSort(arr, cnt):\n",
    "        if len(arr) == 1:\n",
    "            return arr, 0\n",
    "        else:\n",
    "            left = int(len(arr) / 2)\n",
    "            a = arr[:left]\n",
    "            b = arr[left:]\n",
    "\n",
    "            a, ai = mergeSort(a, cnt)\n",
    "            b, bi = mergeSort(b, cnt)\n",
    "\n",
    "            c = []        \n",
    "\n",
    "            i = 0\n",
    "            j = 0\n",
    "            cnt += ai + bi\n",
    "\n",
    "            while i < len(a) and j < len(b):\n",
    "                if a[i] <= b[j]:\n",
    "                    c.append(a[i])\n",
    "                    i += 1\n",
    "                else:\n",
    "                    cnt += len(a) - i\n",
    "                    c.append(b[j])\n",
    "                    j += 1\n",
    "\n",
    "            c += a[i:]\n",
    "            c += b[j:]\n",
    "\n",
    "        return c, cnt\n",
    "\n",
    "    arr, cnt = mergeSort(arr, cnt)\n",
    "    \n",
    "    return cnt"
   ]
  },
  {
   "cell_type": "code",
   "execution_count": 9,
   "metadata": {},
   "outputs": [
    {
     "name": "stdout",
     "output_type": "stream",
     "text": [
      "6 6\n"
     ]
    }
   ],
   "source": [
    "##countInversions([2, 1, 3, 1, 2])\n",
    "##countInversions([1, 1, 1, 2, 2])\n",
    "print(\n",
    "    countInversions([7, 5, 3, 1]),\n",
    "    countInversionsBrute([7, 5, 3, 1])\n",
    ")"
   ]
  },
  {
   "cell_type": "code",
   "execution_count": null,
   "metadata": {},
   "outputs": [],
   "source": []
  },
  {
   "cell_type": "code",
   "execution_count": null,
   "metadata": {},
   "outputs": [],
   "source": []
  }
 ],
 "metadata": {
  "kernelspec": {
   "display_name": "Python 3",
   "language": "python",
   "name": "python3"
  },
  "language_info": {
   "codemirror_mode": {
    "name": "ipython",
    "version": 3
   },
   "file_extension": ".py",
   "mimetype": "text/x-python",
   "name": "python",
   "nbconvert_exporter": "python",
   "pygments_lexer": "ipython3",
   "version": "3.6.4"
  }
 },
 "nbformat": 4,
 "nbformat_minor": 2
}
