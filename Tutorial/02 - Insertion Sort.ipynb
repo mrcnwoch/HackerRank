{
 "cells": [
  {
   "cell_type": "code",
   "execution_count": 122,
   "id": "42d36659-3abc-4d41-a94a-1a51300e56a9",
   "metadata": {},
   "outputs": [],
   "source": [
    "def insertionSort1(n, arr):\n",
    "    i = n - 1\n",
    "    el = arr[n-1]\n",
    "    \n",
    "    while (i > 0) and (arr[i] >= el):\n",
    "        if arr[i-1] > el:\n",
    "            arr[i] = arr[i - 1]\n",
    "        else:\n",
    "            arr[i] = el\n",
    "        print(' '.join(map(str, arr)))\n",
    "        if i == 1 and (arr[0] > el):\n",
    "            arr[0] = el\n",
    "            print(' '.join(map(str, arr)))\n",
    "        i -= 1"
   ]
  },
  {
   "cell_type": "code",
   "execution_count": 123,
   "id": "cd25731a-cbd8-49f3-ba2c-bbe62db95da6",
   "metadata": {},
   "outputs": [
    {
     "name": "stdout",
     "output_type": "stream",
     "text": [
      "2 3 4 5 6 7 8 9 10 10\n",
      "2 3 4 5 6 7 8 9 9 10\n",
      "2 3 4 5 6 7 8 8 9 10\n",
      "2 3 4 5 6 7 7 8 9 10\n",
      "2 3 4 5 6 6 7 8 9 10\n",
      "2 3 4 5 5 6 7 8 9 10\n",
      "2 3 4 4 5 6 7 8 9 10\n",
      "2 3 3 4 5 6 7 8 9 10\n",
      "2 2 3 4 5 6 7 8 9 10\n",
      "1 2 3 4 5 6 7 8 9 10\n"
     ]
    }
   ],
   "source": [
    "n = 5; arr = [2, 4, 6, 8, 3]\n",
    "n = 5; arr = [1, 2, 4, 5, 3]\n",
    "n = 10; arr = [2, 3, 4, 5, 6, 7, 8, 9, 10, 1]\n",
    "#n = 5; arr = [2, 4, 6, 8, 1]\n",
    "insertionSort1(n, arr)"
   ]
  },
  {
   "cell_type": "code",
   "execution_count": null,
   "id": "0939e87d-184b-4c64-b032-0661cbc5bf40",
   "metadata": {},
   "outputs": [],
   "source": []
  }
 ],
 "metadata": {
  "kernelspec": {
   "display_name": "Python 3 (ipykernel)",
   "language": "python",
   "name": "python3"
  },
  "language_info": {
   "codemirror_mode": {
    "name": "ipython",
    "version": 3
   },
   "file_extension": ".py",
   "mimetype": "text/x-python",
   "name": "python",
   "nbconvert_exporter": "python",
   "pygments_lexer": "ipython3",
   "version": "3.13.2"
  }
 },
 "nbformat": 4,
 "nbformat_minor": 5
}
