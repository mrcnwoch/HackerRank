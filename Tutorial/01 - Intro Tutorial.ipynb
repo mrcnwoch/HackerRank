{
 "cells": [
  {
   "cell_type": "code",
   "execution_count": 6,
   "id": "e4d0f5e8-8c1d-4f50-a6b5-9a13c6e90330",
   "metadata": {},
   "outputs": [],
   "source": [
    "def introTutorial(V, arr):\n",
    "    return arr.index(V)"
   ]
  },
  {
   "cell_type": "code",
   "execution_count": 9,
   "id": "7ae95bd2-d9cc-459d-83f0-b3daba072c7a",
   "metadata": {},
   "outputs": [
    {
     "data": {
      "text/plain": [
       "1"
      ]
     },
     "execution_count": 9,
     "metadata": {},
     "output_type": "execute_result"
    }
   ],
   "source": [
    "V = 2; arr = [1, 2, 3]\n",
    "V = 4; arr = [1, 4, 5, 7, 9, 12]\n",
    "introTutorial(V, arr)"
   ]
  },
  {
   "cell_type": "code",
   "execution_count": null,
   "id": "163274f8-67b4-4ae4-ab4c-b028e3a7c21c",
   "metadata": {},
   "outputs": [],
   "source": []
  }
 ],
 "metadata": {
  "kernelspec": {
   "display_name": "Python 3 (ipykernel)",
   "language": "python",
   "name": "python3"
  },
  "language_info": {
   "codemirror_mode": {
    "name": "ipython",
    "version": 3
   },
   "file_extension": ".py",
   "mimetype": "text/x-python",
   "name": "python",
   "nbconvert_exporter": "python",
   "pygments_lexer": "ipython3",
   "version": "3.13.2"
  }
 },
 "nbformat": 4,
 "nbformat_minor": 5
}
