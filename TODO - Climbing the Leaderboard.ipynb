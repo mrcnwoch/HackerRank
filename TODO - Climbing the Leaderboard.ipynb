{
 "cells": [
  {
   "cell_type": "code",
   "execution_count": 1,
   "id": "df847254",
   "metadata": {},
   "outputs": [],
   "source": [
    "def climbingLeaderboard(ranked, player):\n",
    "    pass"
   ]
  },
  {
   "cell_type": "code",
   "execution_count": 2,
   "id": "ee540698",
   "metadata": {},
   "outputs": [],
   "source": [
    "ranked = [100, 100, 50, 40, 40, 20, 10]\n",
    "player = [5, 25, 50, 120]\n",
    "\n",
    "climbingLeaderboard(ranked, player)"
   ]
  },
  {
   "cell_type": "code",
   "execution_count": null,
   "id": "777672eb",
   "metadata": {},
   "outputs": [],
   "source": []
  }
 ],
 "metadata": {
  "kernelspec": {
   "display_name": "Python 3 (ipykernel)",
   "language": "python",
   "name": "python3"
  },
  "language_info": {
   "codemirror_mode": {
    "name": "ipython",
    "version": 3
   },
   "file_extension": ".py",
   "mimetype": "text/x-python",
   "name": "python",
   "nbconvert_exporter": "python",
   "pygments_lexer": "ipython3",
   "version": "3.9.7"
  }
 },
 "nbformat": 4,
 "nbformat_minor": 5
}
