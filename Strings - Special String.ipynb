{
 "cells": [
  {
   "cell_type": "code",
   "execution_count": 49,
   "id": "85f6fc72",
   "metadata": {},
   "outputs": [],
   "source": [
    "def substrCount_slow(n, s): #slow\n",
    "    def sameChars(s):\n",
    "        str_len = len(s)\n",
    "        if str_len % 2 == 1:\n",
    "            h = str_len // 2\n",
    "            mod = (str_len + 1) % 2\n",
    "            s = s[:h - mod] + s[h + 1:]\n",
    "                    \n",
    "        s1 = []\n",
    "        for i in range(len(s)):\n",
    "            s1.append(s[i])\n",
    "        \n",
    "        s1 = list(set(s1))\n",
    "        if(len(s1) == 1):\n",
    "            return True\n",
    "        else:\n",
    "            return False\n",
    "    \n",
    "    \n",
    "    cnt = n\n",
    "    \n",
    "    for i in range(2, n + 1):\n",
    "        for j in range(n - i + 1):\n",
    "            sub_str = s[j:j + i]\n",
    "            \n",
    "            if sameChars(sub_str):\n",
    "                cnt += 1\n",
    "            \n",
    "    return cnt"
   ]
  },
  {
   "cell_type": "code",
   "execution_count": 63,
   "id": "258b14f3",
   "metadata": {},
   "outputs": [],
   "source": [
    "def substrCount(n, s):\n",
    "    from itertools import groupby\n",
    "    \n",
    "    def sameChars(s):\n",
    "        s1 = []\n",
    "        for i in range(len(s)):\n",
    "            s1.append(s[i])\n",
    "        \n",
    "        s1 = list(set(s1))\n",
    "        if(len(s1) == 1):\n",
    "            return True\n",
    "        else:\n",
    "            return False\n",
    "        \n",
    "    def n_sum(n):\n",
    "        return (n * (n + 1)) // 2\n",
    "        \n",
    "    if sameChars(s):\n",
    "        return n_sum(n)\n",
    "    else:\n",
    "        cnt = 0\n",
    "\n",
    "        for x, y in groupby(s): #individual letters and same groups of characters\n",
    "            cnt += n_sum(sum(1 for i in y))\n",
    "                    \n",
    "        for i in range(1, len(s) - 1):\n",
    "            skip = 1\n",
    "            if s[i - skip] == s[i] or s[i + skip] == s[i]:\n",
    "                continue\n",
    "        \n",
    "            match = s[i - skip]\n",
    "            while i - skip > -1 and i + skip < len(s) and s[i - skip] == match and s[i + skip] == match:\n",
    "                cnt += 1\n",
    "                skip += 1\n",
    "    \n",
    "        return cnt"
   ]
  },
  {
   "cell_type": "code",
   "execution_count": 65,
   "id": "9320c603",
   "metadata": {},
   "outputs": [
    {
     "name": "stdout",
     "output_type": "stream",
     "text": [
      "12\n",
      "m n o\n",
      "n o n\n",
      "o n o\n",
      "n o p\n",
      "o p o\n",
      "p o o\n",
      "12\n"
     ]
    }
   ],
   "source": [
    "n = 8\n",
    "s = 'mnonopoo'\n",
    "\n",
    "print(substrCount_slow(n, s))\n",
    "print(substrCount(n, s))"
   ]
  },
  {
   "cell_type": "code",
   "execution_count": null,
   "id": "2d2267b8",
   "metadata": {},
   "outputs": [],
   "source": []
  }
 ],
 "metadata": {
  "kernelspec": {
   "display_name": "Python 3 (ipykernel)",
   "language": "python",
   "name": "python3"
  },
  "language_info": {
   "codemirror_mode": {
    "name": "ipython",
    "version": 3
   },
   "file_extension": ".py",
   "mimetype": "text/x-python",
   "name": "python",
   "nbconvert_exporter": "python",
   "pygments_lexer": "ipython3",
   "version": "3.9.7"
  }
 },
 "nbformat": 4,
 "nbformat_minor": 5
}
