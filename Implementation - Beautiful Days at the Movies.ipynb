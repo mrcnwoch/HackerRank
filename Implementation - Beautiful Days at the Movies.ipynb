{
 "cells": [
  {
   "cell_type": "code",
   "execution_count": 31,
   "id": "b34ce97c",
   "metadata": {},
   "outputs": [],
   "source": [
    "def beautifulDays(i, j, k):\n",
    "    beautiful = 0\n",
    "    \n",
    "    for day in range(i, j + 1):\n",
    "        x = str(day)[::-1]\n",
    "        reverse_day = int(x)\n",
    "        \n",
    "        if abs(day - reverse_day) % k == 0:\n",
    "            beautiful += 1\n",
    "        \n",
    "    return beautiful"
   ]
  },
  {
   "cell_type": "code",
   "execution_count": 32,
   "id": "8ca5eba8",
   "metadata": {},
   "outputs": [
    {
     "data": {
      "text/plain": [
       "2"
      ]
     },
     "execution_count": 32,
     "metadata": {},
     "output_type": "execute_result"
    }
   ],
   "source": [
    "beautifulDays(20, 23, 6)"
   ]
  },
  {
   "cell_type": "code",
   "execution_count": null,
   "id": "5781a1fa",
   "metadata": {},
   "outputs": [],
   "source": []
  }
 ],
 "metadata": {
  "kernelspec": {
   "display_name": "Python 3 (ipykernel)",
   "language": "python",
   "name": "python3"
  },
  "language_info": {
   "codemirror_mode": {
    "name": "ipython",
    "version": 3
   },
   "file_extension": ".py",
   "mimetype": "text/x-python",
   "name": "python",
   "nbconvert_exporter": "python",
   "pygments_lexer": "ipython3",
   "version": "3.9.7"
  }
 },
 "nbformat": 4,
 "nbformat_minor": 5
}
