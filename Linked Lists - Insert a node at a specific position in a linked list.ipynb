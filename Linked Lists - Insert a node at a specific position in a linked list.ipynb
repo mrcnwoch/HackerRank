{
 "cells": [
  {
   "cell_type": "code",
   "execution_count": 1,
   "id": "272fe339",
   "metadata": {},
   "outputs": [],
   "source": [
    "import math\n",
    "import os\n",
    "import random\n",
    "import re\n",
    "import sys"
   ]
  },
  {
   "cell_type": "code",
   "execution_count": 2,
   "id": "c00197a1",
   "metadata": {},
   "outputs": [],
   "source": [
    "class SinglyLinkedListNode:\n",
    "    def __init__(self, node_data):\n",
    "        self.data = node_data\n",
    "        self.next = None"
   ]
  },
  {
   "cell_type": "code",
   "execution_count": 7,
   "id": "bb469c7c",
   "metadata": {},
   "outputs": [],
   "source": [
    "class SinglyLinkedList:\n",
    "    def __init__(self):\n",
    "        self.head = None\n",
    "        self.tail = None\n",
    "\n",
    "    def insert_node(self, node_data):\n",
    "        node = SinglyLinkedListNode(node_data)\n",
    "\n",
    "        if not self.head:\n",
    "            self.head = node\n",
    "        else:\n",
    "            self.tail.next = node\n",
    "            \n",
    "            \n",
    "        self.tail = node"
   ]
  },
  {
   "cell_type": "code",
   "execution_count": 103,
   "id": "f7ff8bdf",
   "metadata": {},
   "outputs": [],
   "source": [
    "def print_singly_linked_list(node, sep):\n",
    "    while node:\n",
    "        print(str(node.data), end = ' ')\n",
    "\n",
    "        node = node.next"
   ]
  },
  {
   "cell_type": "code",
   "execution_count": 134,
   "id": "255d13c8",
   "metadata": {},
   "outputs": [],
   "source": [
    "def insertNodeAtPosition(llist, data, position):\n",
    "    i = 0\n",
    "    \n",
    "    new_list = SinglyLinkedList()\n",
    "    \n",
    "    while llist:\n",
    "        if i == position:\n",
    "            new_node = SinglyLinkedListNode(data)\n",
    "        else:\n",
    "            new_node = llist\n",
    "            llist = llist.next\n",
    "        \n",
    "        i += 1\n",
    "        new_list.insert_node(new_node.data)\n",
    "        \n",
    "    return new_list.head"
   ]
  },
  {
   "cell_type": "code",
   "execution_count": 136,
   "id": "2296d48d",
   "metadata": {
    "scrolled": true
   },
   "outputs": [
    {
     "name": "stdout",
     "output_type": "stream",
     "text": [
      "1 5 2 3 4 "
     ]
    }
   ],
   "source": [
    "llist_count = 4\n",
    "llist = SinglyLinkedList()\n",
    "\n",
    "llist.insert_node(1)\n",
    "llist.insert_node(2)\n",
    "llist.insert_node(3)\n",
    "llist.insert_node(4)\n",
    "\n",
    "llist_head = insertNodeAtPosition(llist.head, 5, 1)\n",
    "\n",
    "print_singly_linked_list(llist_head, ' ')"
   ]
  },
  {
   "cell_type": "code",
   "execution_count": null,
   "id": "feac1474",
   "metadata": {},
   "outputs": [],
   "source": []
  }
 ],
 "metadata": {
  "kernelspec": {
   "display_name": "Python 3 (ipykernel)",
   "language": "python",
   "name": "python3"
  },
  "language_info": {
   "codemirror_mode": {
    "name": "ipython",
    "version": 3
   },
   "file_extension": ".py",
   "mimetype": "text/x-python",
   "name": "python",
   "nbconvert_exporter": "python",
   "pygments_lexer": "ipython3",
   "version": "3.9.7"
  }
 },
 "nbformat": 4,
 "nbformat_minor": 5
}
