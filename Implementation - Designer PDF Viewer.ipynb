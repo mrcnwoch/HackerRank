{
 "cells": [
  {
   "cell_type": "code",
   "execution_count": 17,
   "id": "b0906914",
   "metadata": {},
   "outputs": [],
   "source": [
    "def designerPdfViewer(h, word):\n",
    "    alphabet = ['a', 'b', 'c', 'd', 'e', 'f', 'g', 'h', 'i', 'j',\n",
    "                'k', 'l', 'm', 'n', 'o', 'p', 'q', 'r', 's', 't', \n",
    "                'u', 'v', 'w', 'x', 'y', 'z']\n",
    "    \n",
    "    max_height = 0\n",
    "    for letter in word:\n",
    "        height = h[alphabet.index(letter)]\n",
    "        if max_height < height:\n",
    "            max_height = height\n",
    "            \n",
    "    \n",
    "    return max_height * len(word)"
   ]
  },
  {
   "cell_type": "code",
   "execution_count": 18,
   "id": "b62e176e",
   "metadata": {},
   "outputs": [
    {
     "data": {
      "text/plain": [
       "9"
      ]
     },
     "execution_count": 18,
     "metadata": {},
     "output_type": "execute_result"
    }
   ],
   "source": [
    "h = [1, 3, 1, 3, 1, 4, 1, 3, 2, 5, 5, 5, 5, 5, 5, 5, 5, 5, 5, 5, 5, 5, 5, 5, 5, 5]\n",
    "word = \"abc\"\n",
    "\n",
    "designerPdfViewer(h, word)"
   ]
  },
  {
   "cell_type": "code",
   "execution_count": null,
   "id": "255ca11f",
   "metadata": {},
   "outputs": [],
   "source": []
  }
 ],
 "metadata": {
  "kernelspec": {
   "display_name": "Python 3 (ipykernel)",
   "language": "python",
   "name": "python3"
  },
  "language_info": {
   "codemirror_mode": {
    "name": "ipython",
    "version": 3
   },
   "file_extension": ".py",
   "mimetype": "text/x-python",
   "name": "python",
   "nbconvert_exporter": "python",
   "pygments_lexer": "ipython3",
   "version": "3.9.7"
  }
 },
 "nbformat": 4,
 "nbformat_minor": 5
}
