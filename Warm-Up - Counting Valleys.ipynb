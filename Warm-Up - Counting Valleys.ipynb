{
 "cells": [
  {
   "cell_type": "markdown",
   "metadata": {},
   "source": [
    "Gary is an avid hiker. He tracks his hikes meticulously, paying close attention to small details like topography. During his last hike he took exactly n steps. For every step he took, he noted if it was an uphill U, or a downhill D step. Gary's hikes start and end at sea level and each step up or down represents a 1 unit change in altitude. We define the following terms:\n",
    "\n",
    "    A mountain is a sequence of consecutive steps above sea level, starting with a step up from sea level and ending with a step down to sea level.\n",
    "    A valley is a sequence of consecutive steps below sea level, starting with a step down from sea level and ending with a step up to sea level.\n",
    "\n",
    "Given Gary's sequence of up and down steps during his last hike, find and print the number of valleys he walked through.\n",
    "\n",
    "For example, if Gary's path is s=[DDUUUUDD] he first enters a valley 2 units deep. Then he climbs out an up onto a mountain\n",
    "2 units high. Finally, he returns to sea level and ends his hike.\n",
    "\n",
    "Function Description\n",
    "\n",
    "Complete the countingValleys function in the editor below. It must return an integer that denotes the number of valleys Gary traversed.\n",
    "\n",
    "countingValleys has the following parameter(s):\n",
    "\n",
    "    n: the number of steps Gary takes\n",
    "    s: a string describing his path\n",
    "\n",
    "Input Format\n",
    "\n",
    "The first line contains an integer n the number of steps in Gary's hike.\n",
    "The second line contains a single string s of n characters that describe his path.\n",
    "\n",
    "Output Format\n",
    "\n",
    "Print a single integer that denotes the number of valleys Gary walked through during his hike.\n",
    "\n",
    "Sample Input\n",
    "\n",
    "8\n",
    "UDDDUDUU\n",
    "\n",
    "Sample Output\n",
    "\n",
    "1\n",
    "\n",
    "Explanation\n",
    "\n",
    "If we represent _ as sea level, a step up as /, and a step down as \\, Gary's hike can be drawn as:\n",
    "\n",
    "_/\\      _\n",
    "   \\    /\n",
    "    \\/\\/\n",
    "\n",
    "He enters and leaves one valley."
   ]
  },
  {
   "cell_type": "code",
   "execution_count": 11,
   "metadata": {},
   "outputs": [],
   "source": [
    "def countingValleys(n, s):\n",
    "    level = 0\n",
    "    cnt = 0\n",
    "    prev_valley = False\n",
    "    \n",
    "    for i in range(len(s)):\n",
    "        if s[i] == 'U':\n",
    "            level += 1\n",
    "        else:\n",
    "            level -= 1\n",
    "            \n",
    "        if level < 0:\n",
    "            if not prev_valley:\n",
    "                cnt += 1\n",
    "                \n",
    "            prev_valley = True\n",
    "        else:\n",
    "            prev_valley = False\n",
    "        \n",
    "    return cnt"
   ]
  },
  {
   "cell_type": "code",
   "execution_count": 12,
   "metadata": {},
   "outputs": [
    {
     "data": {
      "text/plain": [
       "1"
      ]
     },
     "execution_count": 12,
     "metadata": {},
     "output_type": "execute_result"
    }
   ],
   "source": [
    "countingValleys(8, ['U', 'D', 'D', 'D', 'U', 'D', 'U', 'U'])"
   ]
  },
  {
   "cell_type": "code",
   "execution_count": null,
   "metadata": {},
   "outputs": [],
   "source": []
  }
 ],
 "metadata": {
  "kernelspec": {
   "display_name": "Python 3",
   "language": "python",
   "name": "python3"
  },
  "language_info": {
   "codemirror_mode": {
    "name": "ipython",
    "version": 3
   },
   "file_extension": ".py",
   "mimetype": "text/x-python",
   "name": "python",
   "nbconvert_exporter": "python",
   "pygments_lexer": "ipython3",
   "version": "3.6.4"
  }
 },
 "nbformat": 4,
 "nbformat_minor": 2
}
