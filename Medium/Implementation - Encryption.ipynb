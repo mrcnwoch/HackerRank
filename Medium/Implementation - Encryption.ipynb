{
 "cells": [
  {
   "cell_type": "code",
   "execution_count": 79,
   "id": "12c655f7-520b-4ba3-a924-857fbcc68c6a",
   "metadata": {},
   "outputs": [],
   "source": [
    "import math"
   ]
  },
  {
   "cell_type": "code",
   "execution_count": 83,
   "id": "c5689e62-efef-4a86-a0a4-a228efa2b2f6",
   "metadata": {},
   "outputs": [],
   "source": [
    "def encryption(s):\n",
    "    s = s.replace(' ', '')\n",
    "    l = len(s)\n",
    "    rows = math.floor(math.sqrt(l))\n",
    "    columns = math.ceil(math.sqrt(l))\n",
    "\n",
    "    if rows * columns < l:\n",
    "        rows += 1\n",
    "\n",
    "    s_lst = [s[i:i+columns] for i in range(0, l, columns)]\n",
    "    print(s_lst)\n",
    "    output = ''\n",
    "    for i in range(columns):\n",
    "        for j in range(rows):\n",
    "            if i < len(s_lst[j]):\n",
    "                output += s_lst[j][i]\n",
    "        output += ' '\n",
    "\n",
    "    return(output.rstrip())"
   ]
  },
  {
   "cell_type": "code",
   "execution_count": 84,
   "id": "cfd2ecbe-17b0-4998-aba2-c2af624229e8",
   "metadata": {},
   "outputs": [
    {
     "name": "stdout",
     "output_type": "stream",
     "text": [
      "['chi', 'llo', 'ut']\n"
     ]
    },
    {
     "data": {
      "text/plain": [
       "'clu hlt io'"
      ]
     },
     "execution_count": 84,
     "metadata": {},
     "output_type": "execute_result"
    }
   ],
   "source": [
    "s = 'have a nice day' #output - hae and via ecy\n",
    "s = 'feedthedog'      #output - fto ehg ee dd\n",
    "s = 'chillout'        #output - clu hlt io\n",
    "encryption(s)"
   ]
  },
  {
   "cell_type": "code",
   "execution_count": null,
   "id": "eee91a20-cdf8-4936-84e5-5bc6e984a518",
   "metadata": {},
   "outputs": [],
   "source": []
  }
 ],
 "metadata": {
  "kernelspec": {
   "display_name": "Python 3 (ipykernel)",
   "language": "python",
   "name": "python3"
  },
  "language_info": {
   "codemirror_mode": {
    "name": "ipython",
    "version": 3
   },
   "file_extension": ".py",
   "mimetype": "text/x-python",
   "name": "python",
   "nbconvert_exporter": "python",
   "pygments_lexer": "ipython3",
   "version": "3.11.7"
  }
 },
 "nbformat": 4,
 "nbformat_minor": 5
}
