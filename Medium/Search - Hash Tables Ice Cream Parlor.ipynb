{
 "cells": [
  {
   "cell_type": "code",
   "execution_count": 30,
   "id": "01cb286a-8b92-489a-90df-0c2d39ae7a35",
   "metadata": {},
   "outputs": [],
   "source": [
    "def whatFlavors(cost, money):\n",
    "    d = {}\n",
    "    for idx, n in enumerate(cost):\n",
    "        diff = money-n\n",
    "        if diff in d:\n",
    "            print(d[diff], idx+1)\n",
    "        d[n] = idx+1"
   ]
  },
  {
   "cell_type": "code",
   "execution_count": 31,
   "id": "6efa7678-bfd2-4ebb-9ed3-70109a6cbfb5",
   "metadata": {},
   "outputs": [
    {
     "name": "stdout",
     "output_type": "stream",
     "text": [
      "1 3\n"
     ]
    }
   ],
   "source": [
    "cost = [2, 1, 3, 5, 6]; money=5\n",
    "whatFlavors(cost, money)"
   ]
  },
  {
   "cell_type": "code",
   "execution_count": null,
   "id": "a773d2c8-2e15-4a1a-9f54-c93bb18b8e01",
   "metadata": {},
   "outputs": [],
   "source": []
  }
 ],
 "metadata": {
  "kernelspec": {
   "display_name": "Python 3 (ipykernel)",
   "language": "python",
   "name": "python3"
  },
  "language_info": {
   "codemirror_mode": {
    "name": "ipython",
    "version": 3
   },
   "file_extension": ".py",
   "mimetype": "text/x-python",
   "name": "python",
   "nbconvert_exporter": "python",
   "pygments_lexer": "ipython3",
   "version": "3.11.7"
  }
 },
 "nbformat": 4,
 "nbformat_minor": 5
}
