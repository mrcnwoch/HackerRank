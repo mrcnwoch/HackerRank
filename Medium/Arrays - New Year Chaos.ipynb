{
 "cells": [
  {
   "cell_type": "code",
   "execution_count": 39,
   "metadata": {},
   "outputs": [],
   "source": [
    "def minimumBribes(q):\n",
    "    for i in range(len(q)):\n",
    "        start_pos = q[i] - 1\n",
    "       \n",
    "        if i < start_pos - 2:\n",
    "            return \"Too chaotic\"\n",
    "\n",
    "    swaps = 0\n",
    "    while True:\n",
    "        no_swap = True\n",
    "        for i in range(len(q) - 1):\n",
    "            if q[i] >= q[i + 1]:\n",
    "                tmp = q[i]\n",
    "                q[i] = q[i + 1]\n",
    "                q[i + 1] = tmp\n",
    "                swaps += 1\n",
    "                no_swap = False\n",
    "                \n",
    "        if no_swap:\n",
    "            return swaps\n",
    "\n",
    "    return swaps"
   ]
  },
  {
   "cell_type": "code",
   "execution_count": 45,
   "metadata": {},
   "outputs": [
    {
     "data": {
      "text/plain": [
       "5"
      ]
     },
     "execution_count": 45,
     "metadata": {},
     "output_type": "execute_result"
    }
   ],
   "source": [
    "#minimumBribes([2, 5, 1, 3, 4])\n",
    "#minimumBribes([2, 1, 5, 3, 4])\n",
    "minimumBribes([3, 2, 5, 1, 4])"
   ]
  },
  {
   "cell_type": "code",
   "execution_count": null,
   "metadata": {},
   "outputs": [],
   "source": [
    "    2\n",
    "    5\n",
    "    2 1 5 3 4\n",
    "    5\n",
    "    2 5 1 3 4"
   ]
  },
  {
   "cell_type": "code",
   "execution_count": null,
   "metadata": {},
   "outputs": [],
   "source": []
  }
 ],
 "metadata": {
  "kernelspec": {
   "display_name": "Python 3",
   "language": "python",
   "name": "python3"
  },
  "language_info": {
   "codemirror_mode": {
    "name": "ipython",
    "version": 3
   },
   "file_extension": ".py",
   "mimetype": "text/x-python",
   "name": "python",
   "nbconvert_exporter": "python",
   "pygments_lexer": "ipython3",
   "version": "3.6.4"
  }
 },
 "nbformat": 4,
 "nbformat_minor": 2
}
