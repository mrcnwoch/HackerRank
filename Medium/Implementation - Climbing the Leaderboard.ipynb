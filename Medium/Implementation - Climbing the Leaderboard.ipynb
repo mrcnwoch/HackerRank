{
 "cells": [
  {
   "cell_type": "code",
   "execution_count": 8,
   "id": "46896d08",
   "metadata": {},
   "outputs": [],
   "source": [
    "def climbingLeaderboard(ranked, player):\n",
    "    scores = sorted(list(set(ranked)), reverse = True)\n",
    "    pos = []\n",
    "    \n",
    "    for p in player:\n",
    "        while scores and p >= scores[-1]:\n",
    "            scores.pop()\n",
    "        pos.append(len(scores) + 1)\n",
    "\n",
    "    return pos"
   ]
  },
  {
   "cell_type": "code",
   "execution_count": 9,
   "id": "799ca54a",
   "metadata": {},
   "outputs": [
    {
     "data": {
      "text/plain": [
       "[4, 3, 1]"
      ]
     },
     "execution_count": 9,
     "metadata": {},
     "output_type": "execute_result"
    }
   ],
   "source": [
    "ranked = [100, 90, 90, 80]\n",
    "player = [70, 80, 105]\n",
    "\n",
    "climbingLeaderboard(ranked, player)"
   ]
  },
  {
   "cell_type": "code",
   "execution_count": null,
   "id": "7fe876ab",
   "metadata": {},
   "outputs": [],
   "source": []
  }
 ],
 "metadata": {
  "kernelspec": {
   "display_name": "Python 3 (ipykernel)",
   "language": "python",
   "name": "python3"
  },
  "language_info": {
   "codemirror_mode": {
    "name": "ipython",
    "version": 3
   },
   "file_extension": ".py",
   "mimetype": "text/x-python",
   "name": "python",
   "nbconvert_exporter": "python",
   "pygments_lexer": "ipython3",
   "version": "3.9.7"
  }
 },
 "nbformat": 4,
 "nbformat_minor": 5
}
