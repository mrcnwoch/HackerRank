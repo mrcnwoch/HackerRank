{
 "cells": [
  {
   "cell_type": "code",
   "execution_count": 9,
   "id": "04432fec",
   "metadata": {},
   "outputs": [],
   "source": [
    "def pairs(k, arr): # O(n^2) complexity\n",
    "    no_diff = 0\n",
    "    \n",
    "    for i in range(len(arr)):\n",
    "        for j in range(i, len(arr)):\n",
    "            if k == abs(arr[i] - arr[j]):\n",
    "                no_diff += 1\n",
    "    \n",
    "    return no_diff"
   ]
  },
  {
   "cell_type": "code",
   "execution_count": 19,
   "id": "0edc364a",
   "metadata": {},
   "outputs": [],
   "source": [
    "def pairs(k, arr): # O(n) complexity\n",
    "    dct = {}\n",
    "    result = 0\n",
    "\n",
    "    for ele in arr:\n",
    "        dct[ele] = 1\n",
    "        if ele + k in dct:\n",
    "            result += 1\n",
    "        if ele - k in dct:\n",
    "            result += 1\n",
    "\n",
    "    return result"
   ]
  },
  {
   "cell_type": "code",
   "execution_count": 20,
   "id": "b0ea9fae",
   "metadata": {},
   "outputs": [
    {
     "data": {
      "text/plain": [
       "3"
      ]
     },
     "execution_count": 20,
     "metadata": {},
     "output_type": "execute_result"
    }
   ],
   "source": [
    "k = 1\n",
    "arr = [1, 2, 3, 4]\n",
    "\n",
    "pairs(k, arr)"
   ]
  },
  {
   "cell_type": "code",
   "execution_count": null,
   "id": "2d5cc786",
   "metadata": {},
   "outputs": [],
   "source": []
  }
 ],
 "metadata": {
  "kernelspec": {
   "display_name": "Python 3 (ipykernel)",
   "language": "python",
   "name": "python3"
  },
  "language_info": {
   "codemirror_mode": {
    "name": "ipython",
    "version": 3
   },
   "file_extension": ".py",
   "mimetype": "text/x-python",
   "name": "python",
   "nbconvert_exporter": "python",
   "pygments_lexer": "ipython3",
   "version": "3.9.7"
  }
 },
 "nbformat": 4,
 "nbformat_minor": 5
}
