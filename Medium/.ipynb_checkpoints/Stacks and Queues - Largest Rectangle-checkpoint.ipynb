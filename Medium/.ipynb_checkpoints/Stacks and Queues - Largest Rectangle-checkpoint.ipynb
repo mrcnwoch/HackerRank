{
 "cells": [
  {
   "cell_type": "code",
   "execution_count": 47,
   "id": "03fb9299",
   "metadata": {},
   "outputs": [],
   "source": [
    "def largestRectangle(h):\n",
    "    stack = []\n",
    "    index = 0\n",
    "    max_area = 0\n",
    "\n",
    "    while index < len(h):\n",
    "        if (not stack) or (h[stack[-1]] <= h[index]):\n",
    "            stack.append(index)\n",
    "            index += 1\n",
    "        else:\n",
    "            last = stack.pop()\n",
    "            area = (h[last] *\n",
    "                    ((index - stack[-1] - 1) if stack else index))\n",
    "            max_area = max(max_area, area)\n",
    "\n",
    "    while stack:\n",
    "        last = stack.pop()\n",
    "        area = (h[last] *\n",
    "                ((index - stack[-1] - 1) if stack else index))\n",
    "        max_area = max(max_area, area)\n",
    "\n",
    "    return max_area"
   ]
  },
  {
   "cell_type": "code",
   "execution_count": 48,
   "id": "4a2769c0",
   "metadata": {},
   "outputs": [
    {
     "data": {
      "text/plain": [
       "9"
      ]
     },
     "execution_count": 48,
     "metadata": {},
     "output_type": "execute_result"
    }
   ],
   "source": [
    "h = [3, 2, 3]\n",
    "h = [1, 2, 3, 4, 5]\n",
    "largestRectangle(h)"
   ]
  },
  {
   "cell_type": "code",
   "execution_count": null,
   "id": "d9ba91e8",
   "metadata": {},
   "outputs": [],
   "source": []
  }
 ],
 "metadata": {
  "kernelspec": {
   "display_name": "Python 3 (ipykernel)",
   "language": "python",
   "name": "python3"
  },
  "language_info": {
   "codemirror_mode": {
    "name": "ipython",
    "version": 3
   },
   "file_extension": ".py",
   "mimetype": "text/x-python",
   "name": "python",
   "nbconvert_exporter": "python",
   "pygments_lexer": "ipython3",
   "version": "3.9.7"
  }
 },
 "nbformat": 4,
 "nbformat_minor": 5
}
