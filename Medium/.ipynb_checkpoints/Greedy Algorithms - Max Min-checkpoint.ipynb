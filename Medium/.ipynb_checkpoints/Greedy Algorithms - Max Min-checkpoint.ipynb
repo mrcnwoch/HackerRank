{
 "cells": [
  {
   "cell_type": "code",
   "execution_count": 47,
   "id": "8339d2d0",
   "metadata": {},
   "outputs": [],
   "source": [
    "def maxMin(k, arr):\n",
    "    arr.sort()\n",
    "    min_unfairness = 9999999999999\n",
    "    \n",
    "    for i in range(len(arr) - k + 1):\n",
    "        k_arr = arr[i:k + i]\n",
    "        mx = k_arr[-1]\n",
    "        mn = k_arr[0]\n",
    "\n",
    "        if min_unfairness > mx - mn:\n",
    "            min_unfairness = mx - mn\n",
    "    \n",
    "    return min_unfairness"
   ]
  },
  {
   "cell_type": "code",
   "execution_count": 48,
   "id": "d7a2435d",
   "metadata": {},
   "outputs": [
    {
     "data": {
      "text/plain": [
       "1335"
      ]
     },
     "execution_count": 48,
     "metadata": {},
     "output_type": "execute_result"
    }
   ],
   "source": [
    "#arr = [1, 4, 7, 2]\n",
    "#k = 2\n",
    "\n",
    "#k = 3\n",
    "#arr = [10, 100, 300, 200, 1000, 20, 30]\n",
    "\n",
    "k = 5\n",
    "arr = [4504, 1520, 5857, 4094, 4157, 3902, 822, 6643, 2422, 7288, 8245, 9948, 2822,\n",
    "     1784, 7802, 3142, 9739, 5629, 5413, 7232]\n",
    "\n",
    "#k = 3\n",
    "#arr = [100, 200, 300, 350, 400, 401, 402]\n",
    "\n",
    "maxMin(k, arr)"
   ]
  },
  {
   "cell_type": "code",
   "execution_count": null,
   "id": "dfbf8b18",
   "metadata": {},
   "outputs": [],
   "source": []
  }
 ],
 "metadata": {
  "kernelspec": {
   "display_name": "Python 3 (ipykernel)",
   "language": "python",
   "name": "python3"
  },
  "language_info": {
   "codemirror_mode": {
    "name": "ipython",
    "version": 3
   },
   "file_extension": ".py",
   "mimetype": "text/x-python",
   "name": "python",
   "nbconvert_exporter": "python",
   "pygments_lexer": "ipython3",
   "version": "3.9.7"
  }
 },
 "nbformat": 4,
 "nbformat_minor": 5
}
