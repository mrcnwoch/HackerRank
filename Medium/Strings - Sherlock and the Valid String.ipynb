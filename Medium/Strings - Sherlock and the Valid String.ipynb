{
 "cells": [
  {
   "cell_type": "code",
   "execution_count": 76,
   "id": "cdd66642",
   "metadata": {},
   "outputs": [],
   "source": [
    "def isValid(s):\n",
    "    dic = dict()\n",
    "    for chr in s:\n",
    "        dic[chr] = dic.get(chr, 0) + 1\n",
    "        \n",
    "    oper = 0\n",
    "    values_list = list(dic.values())\n",
    "    cnt = max(set(values_list), key=values_list.count)\n",
    "    \n",
    "    for el in dic:\n",
    "        if dic[el] != cnt:\n",
    "            if oper > 0:\n",
    "                return('NO')\n",
    "            \n",
    "            if (dic[el] == 1) or (dic[el] == cnt + 1):\n",
    "                oper += 1\n",
    "            else:\n",
    "                return('NO')\n",
    "            \n",
    "    return('YES')"
   ]
  },
  {
   "cell_type": "code",
   "execution_count": 83,
   "id": "f289ab8e",
   "metadata": {},
   "outputs": [
    {
     "name": "stdout",
     "output_type": "stream",
     "text": [
      "2\n"
     ]
    },
    {
     "data": {
      "text/plain": [
       "'NO'"
      ]
     },
     "execution_count": 83,
     "metadata": {},
     "output_type": "execute_result"
    }
   ],
   "source": [
    "st = 'aabbcdee'\n",
    "st = 'aabbc'\n",
    "st = 'ibfdgaeadiaefgbhbdghhhbgdfgeiccbiehhfcggchgghadhdhagfbahhddgghbdehidbibaeaagaeeigffcebfbaieggabcfbiiedcabfihchdfabifahcbhagccbdfifhghcadfiadeeaheeddddiecaicbgigccageicehfdhdgafaddhffadigfhhcaedcedecafeacbdacgfgfeeibgaiffdehigebhhehiaahfidibccdcdagifgaihacihadecgifihbebffebdfbchbgigeccahgihbcbcaggebaaafgfedbfgagfediddghdgbgehhhifhgcedechahidcbchebheihaadbbbiaiccededchdagfhccfdefigfibifabeiaccghcegfbcghaefifbachebaacbhbfgfddeceababbacgffbagidebeadfihaefefegbghgddbbgddeehgfbhafbccidebgehifafgbghafacgfdccgifdcbbbidfifhdaibgigebigaedeaaiadegfefbhacgddhchgcbgcaeaieiegiffchbgbebgbehbbfcebciiagacaiechdigbgbghefcahgbhfibhedaeeiffebdiabcifgccdefabccdghehfibfiifdaicfedagahhdcbhbicdgibgcedieihcichadgchgbdcdagaihebbabhibcihicadgadfcihdheefbhffiageddhgahaidfdhhdbgciiaciegchiiebfbcbhaeagccfhbfhaddagnfieihghfbaggiffbbfbecgaiiidccdceadbbdfgigibgcgchafccdchgifdeieicbaididhfcfdedbhaadedfageigfdehgcdaecaebebebfcieaecfagfdieaefdiedbcadchabhebgehiidfcgahcdhcdhgchhiiheffiifeegcfdgbdeffhgeghdfhbfbifgidcafbfcd'\n",
    "st = 'caabb'\n",
    "st = 'aabbccddeefghi'\n",
    "st = 'aaaabbcc'\n",
    "\n",
    "isValid(st)"
   ]
  },
  {
   "cell_type": "code",
   "execution_count": null,
   "id": "c52d9b06",
   "metadata": {},
   "outputs": [],
   "source": []
  }
 ],
 "metadata": {
  "kernelspec": {
   "display_name": "Python 3 (ipykernel)",
   "language": "python",
   "name": "python3"
  },
  "language_info": {
   "codemirror_mode": {
    "name": "ipython",
    "version": 3
   },
   "file_extension": ".py",
   "mimetype": "text/x-python",
   "name": "python",
   "nbconvert_exporter": "python",
   "pygments_lexer": "ipython3",
   "version": "3.9.7"
  }
 },
 "nbformat": 4,
 "nbformat_minor": 5
}
