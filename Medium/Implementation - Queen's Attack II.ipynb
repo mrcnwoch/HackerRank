{
 "cells": [
  {
   "cell_type": "code",
   "execution_count": 20,
   "id": "c1007034-f055-4fa1-9d14-989705e61146",
   "metadata": {},
   "outputs": [],
   "source": [
    "def queensAttack(n, k, r_q, c_q, obstacles):\n",
    "    row_left = 0\n",
    "    row_right = n + 1\n",
    "    col_up = n + 1\n",
    "    col_down = 0\n",
    "    \n",
    "    f = lambda x: n - x + 1\n",
    "    \n",
    "    d1_up = ((r_q + c_q + 2 * (n - max(r_q, c_q))) // 2) + 1\n",
    "    d1_down = (r_q + c_q - 2 * min(r_q, c_q)) // 2\n",
    "    d1_q = (r_q + c_q) // 2\n",
    "    \n",
    "    d2_up = (f(r_q) + c_q - 2 * min(f(r_q), c_q)) // 2\n",
    "    d2_down = ((f(r_q) + c_q + 2 * (n - max(f(r_q), c_q))) // 2) + 1\n",
    "    d2_q = (f(r_q) + c_q) // 2\n",
    "    \n",
    "    d_q = r_q - c_q\n",
    "    s_q = r_q + c_q\n",
    "    for r_o, c_o in obstacles:\n",
    "        if r_o == r_q:\n",
    "            if c_o > c_q:\n",
    "                row_right = min(row_right, c_o)\n",
    "            else:\n",
    "                row_left = max(row_left, c_o)\n",
    "        elif c_o == c_q:\n",
    "            if r_o > r_q:\n",
    "                col_up = min(col_up, r_o)\n",
    "            else:\n",
    "                col_down = max(col_down, r_o)\n",
    "        elif r_o - c_o == d_q:\n",
    "            d1_o = (r_o + c_o) // 2\n",
    "            if r_o > r_q:\n",
    "                d1_up = min(d1_up, d1_o)\n",
    "            else:\n",
    "                d1_down = max(d1_down, d1_o)\n",
    "        elif r_o + c_o == s_q:\n",
    "            d2_o = (f(r_o) + c_o) // 2\n",
    "            if c_o > c_q:\n",
    "                d2_down = min(d2_down, d2_o)\n",
    "            else:\n",
    "                d2_up = max(d2_up, d2_o)\n",
    "                \n",
    "    return (row_right - row_left + col_up - col_down + d1_up - d1_down + d2_down - d2_up - 8)"
   ]
  },
  {
   "cell_type": "code",
   "execution_count": 21,
   "id": "24f4e024-6def-4029-9ea0-bdd50252d83c",
   "metadata": {},
   "outputs": [
    {
     "name": "stdout",
     "output_type": "stream",
     "text": [
      "9\n",
      "16\n",
      "14\n"
     ]
    }
   ],
   "source": [
    "n = 4; k = 0; r_q = 4; c_q = 4; obstacles=[]\n",
    "print(queensAttack(n, k, r_q, c_q, obstacles))\n",
    "\n",
    "n = 5; k = 0; r_q = 3; c_q = 3; obstacles=[]\n",
    "print(queensAttack(n, k, r_q, c_q, obstacles))\n",
    "\n",
    "n = 5; k = 0; r_q = 3; c_q = 4; obstacles=[]\n",
    "print(queensAttack(n, k, r_q, c_q, obstacles))"
   ]
  },
  {
   "cell_type": "code",
   "execution_count": null,
   "id": "c38c8af6-2d89-4a25-89e7-f67c34917f57",
   "metadata": {},
   "outputs": [],
   "source": []
  }
 ],
 "metadata": {
  "kernelspec": {
   "display_name": "Python 3 (ipykernel)",
   "language": "python",
   "name": "python3"
  },
  "language_info": {
   "codemirror_mode": {
    "name": "ipython",
    "version": 3
   },
   "file_extension": ".py",
   "mimetype": "text/x-python",
   "name": "python",
   "nbconvert_exporter": "python",
   "pygments_lexer": "ipython3",
   "version": "3.11.7"
  }
 },
 "nbformat": 4,
 "nbformat_minor": 5
}
