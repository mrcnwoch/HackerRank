{
 "cells": [
  {
   "cell_type": "code",
   "execution_count": 55,
   "id": "f66c97cb",
   "metadata": {},
   "outputs": [],
   "source": [
    "def getMinimumCost(k, c):\n",
    "    c.sort(reverse = True)\n",
    "    price = 0\n",
    "    \n",
    "    multiplier = 0\n",
    "    \n",
    "    for i in range(len(c)):\n",
    "        price += (multiplier + 1) * c[i]\n",
    "        if (i + 1) % k == 0:\n",
    "            multiplier += 1\n",
    "    \n",
    "    return price"
   ]
  },
  {
   "cell_type": "code",
   "execution_count": 59,
   "id": "b22116b5",
   "metadata": {},
   "outputs": [
    {
     "name": "stdout",
     "output_type": "stream",
     "text": [
      "[6, 5, 2]\n",
      "15\n"
     ]
    }
   ],
   "source": [
    "#k = 3\n",
    "#c = [1, 2, 4, 3]\n",
    "\n",
    "#k = 3\n",
    "#c = [2, 5, 6]\n",
    "\n",
    "k = 2\n",
    "c = [2, 5, 6]\n",
    "getMinimumCost(k, c)"
   ]
  },
  {
   "cell_type": "code",
   "execution_count": null,
   "id": "2c7718c3",
   "metadata": {},
   "outputs": [],
   "source": []
  }
 ],
 "metadata": {
  "kernelspec": {
   "display_name": "Python 3 (ipykernel)",
   "language": "python",
   "name": "python3"
  },
  "language_info": {
   "codemirror_mode": {
    "name": "ipython",
    "version": 3
   },
   "file_extension": ".py",
   "mimetype": "text/x-python",
   "name": "python",
   "nbconvert_exporter": "python",
   "pygments_lexer": "ipython3",
   "version": "3.9.7"
  }
 },
 "nbformat": 4,
 "nbformat_minor": 5
}
