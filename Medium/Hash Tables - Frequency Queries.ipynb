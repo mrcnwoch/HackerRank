{
 "cells": [
  {
   "cell_type": "code",
   "execution_count": 50,
   "metadata": {},
   "outputs": [],
   "source": [
    "def freqQuery(queries):\n",
    "    from collections import defaultdict\n",
    "    \n",
    "    cnt = defaultdict(int) \n",
    "    freq = defaultdict(int)\n",
    "    res = []\n",
    "\n",
    "    for query in queries:\n",
    "        op = query[0]\n",
    "        element = query[1]\n",
    "\n",
    "        if op == 1:\n",
    "            freq[cnt[element]] -= 1\n",
    "            cnt[element]+=1\n",
    "            freq[cnt[element]] += 1\n",
    "        elif op == 2:\n",
    "            if element in cnt:\n",
    "                freq[cnt[element]] -= 1\n",
    "                cnt[element] -= 1\n",
    "                freq[cnt[element]] += 1\n",
    "\n",
    "            cnt[element] = 0 if cnt[element] < 0 else cnt[element]\n",
    "        else:\n",
    "            if element in freq and freq[element] > 0:\n",
    "                res.append(1)\n",
    "            else:\n",
    "                res.append(0)\n",
    "            \n",
    "    return res"
   ]
  },
  {
   "cell_type": "code",
   "execution_count": 49,
   "metadata": {},
   "outputs": [
    {
     "name": "stdout",
     "output_type": "stream",
     "text": [
      "defaultdict(<class 'int'>, {1003: 0, 16: 1})\n",
      "defaultdict(<class 'int'>, {0: -1, 1: 1})\n"
     ]
    },
    {
     "data": {
      "text/plain": [
       "[0, 1]"
      ]
     },
     "execution_count": 49,
     "metadata": {},
     "output_type": "execute_result"
    }
   ],
   "source": [
    "freqQuery([[3, 4], [2, 1003], [1, 16], [3, 1]])"
   ]
  },
  {
   "cell_type": "code",
   "execution_count": null,
   "metadata": {},
   "outputs": [],
   "source": []
  }
 ],
 "metadata": {
  "kernelspec": {
   "display_name": "Python 3",
   "language": "python",
   "name": "python3"
  },
  "language_info": {
   "codemirror_mode": {
    "name": "ipython",
    "version": 3
   },
   "file_extension": ".py",
   "mimetype": "text/x-python",
   "name": "python",
   "nbconvert_exporter": "python",
   "pygments_lexer": "ipython3",
   "version": "3.6.4"
  }
 },
 "nbformat": 4,
 "nbformat_minor": 2
}
