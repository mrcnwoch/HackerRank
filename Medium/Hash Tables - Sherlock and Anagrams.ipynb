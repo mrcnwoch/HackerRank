{
 "cells": [
  {
   "cell_type": "code",
   "execution_count": 64,
   "metadata": {},
   "outputs": [],
   "source": [
    "def sherlockAndAnagrams(s):\n",
    "    ln = len(s)\n",
    "    res = 0\n",
    "    for l in range(1, ln):\n",
    "        dic = {}\n",
    "        for i in range(ln - l + 1):\n",
    "            subs = list(s[i:i + l])\n",
    "            subs.sort()\n",
    "            subs = ''.join(subs)\n",
    "            if subs in dic:\n",
    "                dic[subs] += 1\n",
    "            else:\n",
    "                dic[subs] = 1\n",
    "                \n",
    "            res += dic[subs] - 1\n",
    "    \n",
    "    return res"
   ]
  },
  {
   "cell_type": "code",
   "execution_count": 65,
   "metadata": {},
   "outputs": [
    {
     "data": {
      "text/plain": [
       "10"
      ]
     },
     "execution_count": 65,
     "metadata": {},
     "output_type": "execute_result"
    }
   ],
   "source": [
    "#sherlockAndAnagrams('abba')       ##2\n",
    "#sherlockAndAnagrams('abcd')       ##0   \n",
    "#sherlockAndAnagrams('ifailuhkqq') ##3\n",
    "sherlockAndAnagrams('kkkk')       ##10\n",
    "#sherlockAndAnagrams('cdcd')       ##5"
   ]
  },
  {
   "cell_type": "code",
   "execution_count": null,
   "metadata": {},
   "outputs": [],
   "source": []
  }
 ],
 "metadata": {
  "kernelspec": {
   "display_name": "Python 3",
   "language": "python",
   "name": "python3"
  },
  "language_info": {
   "codemirror_mode": {
    "name": "ipython",
    "version": 3
   },
   "file_extension": ".py",
   "mimetype": "text/x-python",
   "name": "python",
   "nbconvert_exporter": "python",
   "pygments_lexer": "ipython3",
   "version": "3.6.4"
  }
 },
 "nbformat": 4,
 "nbformat_minor": 2
}
