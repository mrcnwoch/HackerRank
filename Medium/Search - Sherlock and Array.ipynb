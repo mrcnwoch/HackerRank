{
 "cells": [
  {
   "cell_type": "code",
   "execution_count": 12,
   "id": "536e4eb2",
   "metadata": {},
   "outputs": [],
   "source": [
    "def balancedSums(arr):\n",
    "    total = sum(arr)\n",
    "    left = 0\n",
    "    right = total\n",
    "    prev_el = 0\n",
    "    \n",
    "    for el in arr:\n",
    "        left += prev_el\n",
    "        right -= el\n",
    "        prev_el = el\n",
    "        if left == right:\n",
    "            return 'YES'\n",
    "        \n",
    "    return 'NO'"
   ]
  },
  {
   "cell_type": "code",
   "execution_count": 13,
   "id": "d1a63237",
   "metadata": {},
   "outputs": [
    {
     "data": {
      "text/plain": [
       "'YES'"
      ]
     },
     "execution_count": 13,
     "metadata": {},
     "output_type": "execute_result"
    }
   ],
   "source": [
    "arr = [1, 1, 4, 1, 1]\n",
    "balancedSums(arr)"
   ]
  },
  {
   "cell_type": "code",
   "execution_count": null,
   "id": "a664c2e5",
   "metadata": {},
   "outputs": [],
   "source": []
  }
 ],
 "metadata": {
  "kernelspec": {
   "display_name": "Python 3 (ipykernel)",
   "language": "python",
   "name": "python3"
  },
  "language_info": {
   "codemirror_mode": {
    "name": "ipython",
    "version": 3
   },
   "file_extension": ".py",
   "mimetype": "text/x-python",
   "name": "python",
   "nbconvert_exporter": "python",
   "pygments_lexer": "ipython3",
   "version": "3.9.7"
  }
 },
 "nbformat": 4,
 "nbformat_minor": 5
}
