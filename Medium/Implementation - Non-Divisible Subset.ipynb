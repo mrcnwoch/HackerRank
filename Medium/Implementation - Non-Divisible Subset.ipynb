{
 "cells": [
  {
   "cell_type": "code",
   "execution_count": 3,
   "id": "cac0e1e2",
   "metadata": {},
   "outputs": [],
   "source": [
    "def nonDivisibleSubset(k, s):\n",
    "    count = [0] * k\n",
    "\n",
    "    for i in s:\n",
    "        remainder = i % k\n",
    "        count[remainder] += 1\n",
    "    \n",
    "    ans = min(count[0], 1)\n",
    "\n",
    "    if k % 2 == 0:\n",
    "        ans += min(count[k // 2], 1)\n",
    "\n",
    "    for i in range(1, k // 2 + 1): \n",
    "        if i != k - i:\n",
    "            ans += max(count[i], count[k-i])\n",
    "    \n",
    "    return ans"
   ]
  },
  {
   "cell_type": "code",
   "execution_count": 4,
   "id": "8a832d9c",
   "metadata": {},
   "outputs": [
    {
     "data": {
      "text/plain": [
       "3"
      ]
     },
     "execution_count": 4,
     "metadata": {},
     "output_type": "execute_result"
    }
   ],
   "source": [
    "k = 4; s = [19, 10, 12, 10, 24, 25, 22]\n",
    "#k = 3; s = [1, 7, 2, 4]\n",
    "nonDivisibleSubset(k, s)"
   ]
  },
  {
   "cell_type": "code",
   "execution_count": null,
   "id": "a43fbbe7",
   "metadata": {},
   "outputs": [],
   "source": []
  }
 ],
 "metadata": {
  "kernelspec": {
   "display_name": "Python 3 (ipykernel)",
   "language": "python",
   "name": "python3"
  },
  "language_info": {
   "codemirror_mode": {
    "name": "ipython",
    "version": 3
   },
   "file_extension": ".py",
   "mimetype": "text/x-python",
   "name": "python",
   "nbconvert_exporter": "python",
   "pygments_lexer": "ipython3",
   "version": "3.9.7"
  }
 },
 "nbformat": 4,
 "nbformat_minor": 5
}
