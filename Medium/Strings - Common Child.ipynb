{
 "cells": [
  {
   "cell_type": "code",
   "execution_count": 31,
   "id": "bb64e313",
   "metadata": {},
   "outputs": [],
   "source": [
    "def commonChild(s1, s2):\n",
    "    mx = {}\n",
    "\n",
    "    for i in range(len(s1)):\n",
    "        max_s1 = 0\n",
    "        for j in range(len(s2)):\n",
    "            tmp_sm = max_s1 + 1\n",
    "            \n",
    "            other = mx.get(j, 0)\n",
    "            if other > max_s1:\n",
    "                max_s1 = other\n",
    "\n",
    "            if s1[i] == s2[j]:\n",
    "                mx[j] = tmp_sm\n",
    "\n",
    "    return max(mx.values(), default=0)"
   ]
  },
  {
   "cell_type": "code",
   "execution_count": 32,
   "id": "c77f2e68",
   "metadata": {},
   "outputs": [
    {
     "data": {
      "text/plain": [
       "7"
      ]
     },
     "execution_count": 32,
     "metadata": {},
     "output_type": "execute_result"
    }
   ],
   "source": [
    "s1 = 'ABCXXXXX'\n",
    "s2 = 'ABXXXXXC'\n",
    "\n",
    "commonChild(s1, s2)"
   ]
  },
  {
   "cell_type": "code",
   "execution_count": null,
   "id": "b884d33c",
   "metadata": {},
   "outputs": [],
   "source": []
  }
 ],
 "metadata": {
  "kernelspec": {
   "display_name": "Python 3 (ipykernel)",
   "language": "python",
   "name": "python3"
  },
  "language_info": {
   "codemirror_mode": {
    "name": "ipython",
    "version": 3
   },
   "file_extension": ".py",
   "mimetype": "text/x-python",
   "name": "python",
   "nbconvert_exporter": "python",
   "pygments_lexer": "ipython3",
   "version": "3.9.7"
  }
 },
 "nbformat": 4,
 "nbformat_minor": 5
}
