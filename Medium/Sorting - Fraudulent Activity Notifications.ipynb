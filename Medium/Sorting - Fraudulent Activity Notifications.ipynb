{
 "cells": [
  {
   "cell_type": "code",
   "execution_count": 29,
   "metadata": {},
   "outputs": [],
   "source": [
    "def activityNotifications(expenditure, d):\n",
    "    def getMedian(counter, d):\n",
    "        count = 0\n",
    "        for i in range(201):\n",
    "            count += counter[i]\n",
    "            if count > d // 2:\n",
    "                break\n",
    "        \n",
    "        if d % 2 == 1:\n",
    "            return 2 * i\n",
    "        else:\n",
    "            for left in range(i, -1, -1):\n",
    "                count -= counter[left]\n",
    "                if count < d // 2:\n",
    "                    return left + i\n",
    "            return 2 * i\n",
    "    \n",
    "    count = 0\n",
    "    counter = [0] * 201\n",
    "    for exp in expenditure[:d]:\n",
    "        counter[exp] += 1\n",
    "        \n",
    "    for i in range(d, len(expenditure)):\n",
    "        new = expenditure[i]\n",
    "        old = expenditure[i - d]\n",
    "        median = getMedian(counter, d)\n",
    "        if new >= median:\n",
    "            count += 1\n",
    "        if new != old:\n",
    "            counter[new] += 1\n",
    "            counter[old] -= 1\n",
    "    return count"
   ]
  },
  {
   "cell_type": "code",
   "execution_count": 30,
   "metadata": {},
   "outputs": [
    {
     "data": {
      "text/plain": [
       "2"
      ]
     },
     "execution_count": 30,
     "metadata": {},
     "output_type": "execute_result"
    }
   ],
   "source": [
    "activityNotifications([2, 3, 4, 2, 3, 6, 8, 4, 5], 5)\n",
    "#activityNotifications([1, 2, 3, 4, 4], 4)"
   ]
  },
  {
   "cell_type": "code",
   "execution_count": null,
   "metadata": {},
   "outputs": [],
   "source": []
  },
  {
   "cell_type": "code",
   "execution_count": null,
   "metadata": {},
   "outputs": [],
   "source": []
  }
 ],
 "metadata": {
  "kernelspec": {
   "display_name": "Python 3",
   "language": "python",
   "name": "python3"
  },
  "language_info": {
   "codemirror_mode": {
    "name": "ipython",
    "version": 3
   },
   "file_extension": ".py",
   "mimetype": "text/x-python",
   "name": "python",
   "nbconvert_exporter": "python",
   "pygments_lexer": "ipython3",
   "version": "3.6.4"
  }
 },
 "nbformat": 4,
 "nbformat_minor": 2
}
