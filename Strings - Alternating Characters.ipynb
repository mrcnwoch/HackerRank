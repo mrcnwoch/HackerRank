{
 "cells": [
  {
   "cell_type": "code",
   "execution_count": 10,
   "metadata": {},
   "outputs": [],
   "source": [
    "def alternatingCharacters(s):\n",
    "    cnt = 0\n",
    "    \n",
    "    old_letter = ''\n",
    "    new_s = ''\n",
    "    for letter in s:\n",
    "        if old_letter != letter:\n",
    "            new_s += letter\n",
    "            old_letter = letter\n",
    "        \n",
    "    return len(s) - len(new_s)"
   ]
  },
  {
   "cell_type": "code",
   "execution_count": 15,
   "metadata": {},
   "outputs": [
    {
     "data": {
      "text/plain": [
       "4"
      ]
     },
     "execution_count": 15,
     "metadata": {},
     "output_type": "execute_result"
    }
   ],
   "source": [
    "#alternatingCharacters('AAAA')\n",
    "#alternatingCharacters('BBBBB')\n",
    "alternatingCharacters('AAABBB')"
   ]
  },
  {
   "cell_type": "code",
   "execution_count": null,
   "metadata": {},
   "outputs": [],
   "source": []
  }
 ],
 "metadata": {
  "kernelspec": {
   "display_name": "Python 3",
   "language": "python",
   "name": "python3"
  },
  "language_info": {
   "codemirror_mode": {
    "name": "ipython",
    "version": 3
   },
   "file_extension": ".py",
   "mimetype": "text/x-python",
   "name": "python",
   "nbconvert_exporter": "python",
   "pygments_lexer": "ipython3",
   "version": "3.6.4"
  }
 },
 "nbformat": 4,
 "nbformat_minor": 2
}
