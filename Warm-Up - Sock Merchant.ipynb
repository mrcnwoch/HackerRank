{
 "cells": [
  {
   "cell_type": "markdown",
   "metadata": {},
   "source": [
    "John works at a clothing store. He has a large pile of socks that he must pair by color for sale. Given an array of integers representing the color of each sock, determine how many pairs of socks with matching colors there are.\n",
    "\n",
    "For example, there are\n",
    "socks with colors . There is one pair of color and one of color . There are three odd socks left, one of each color. The number of pairs is\n",
    "\n",
    ".\n",
    "\n",
    "Function Description\n",
    "\n",
    "Complete the sockMerchant function in the editor below. It must return an integer representing the number of matching pairs of socks that are available.\n",
    "\n",
    "sockMerchant has the following parameter(s):\n",
    "\n",
    "    n: the number of socks in the pile\n",
    "    ar: the colors of each sock\n",
    "\n",
    "Input Format\n",
    "\n",
    "The first line contains an integer\n",
    ", the number of socks represented in .\n",
    "The second line contains space-separated integers describing the colors\n",
    "\n",
    "of the socks in the pile.\n",
    "\n",
    "Constraints\n",
    "\n",
    "where\n",
    "\n",
    "Output Format\n",
    "\n",
    "Return the total number of matching pairs of socks that John can sell.\n",
    "\n",
    "Sample Input\n",
    "\n",
    "9\n",
    "10 20 20 10 10 30 50 10 20\n",
    "\n",
    "Sample Output\n",
    "\n",
    "3\n",
    "\n",
    "Explanation\n",
    "\n",
    "![](Img/sock.png)\n",
    "\n",
    "John can match three pairs of socks."
   ]
  },
  {
   "cell_type": "code",
   "execution_count": 26,
   "metadata": {},
   "outputs": [],
   "source": [
    "# Complete the sockMerchant function below.\n",
    "def sockMerchant(n, ar):\n",
    "    ar.sort()\n",
    "    stack = []\n",
    "    cnt = 0\n",
    "    \n",
    "    for i in range(len(ar)):\n",
    "        if len(stack) == 0:\n",
    "            stack.append(ar[i])\n",
    "        else:\n",
    "            if stack[-1] == ar[i]:\n",
    "                cnt += 1\n",
    "                stack.pop()\n",
    "            else:\n",
    "                stack.append(ar[i])\n",
    "                \n",
    "    return cnt"
   ]
  },
  {
   "cell_type": "code",
   "execution_count": 27,
   "metadata": {},
   "outputs": [
    {
     "data": {
      "text/plain": [
       "3"
      ]
     },
     "execution_count": 27,
     "metadata": {},
     "output_type": "execute_result"
    }
   ],
   "source": [
    "sockMerchant(9, [10, 20, 20, 10, 10, 30, 50, 10, 20])"
   ]
  },
  {
   "cell_type": "code",
   "execution_count": null,
   "metadata": {},
   "outputs": [],
   "source": []
  }
 ],
 "metadata": {
  "kernelspec": {
   "display_name": "Python 3",
   "language": "python",
   "name": "python3"
  },
  "language_info": {
   "codemirror_mode": {
    "name": "ipython",
    "version": 3
   },
   "file_extension": ".py",
   "mimetype": "text/x-python",
   "name": "python",
   "nbconvert_exporter": "python",
   "pygments_lexer": "ipython3",
   "version": "3.6.4"
  }
 },
 "nbformat": 4,
 "nbformat_minor": 2
}
